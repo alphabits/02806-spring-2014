{
 "metadata": {
  "name": ""
 },
 "nbformat": 3,
 "nbformat_minor": 0,
 "worksheets": [
  {
   "cells": [
    {
     "cell_type": "code",
     "collapsed": false,
     "input": [
      "import csv\n",
      "from itertools import imap, ifilter\n",
      "from matplotlib import pyplot as plt\n",
      "from operator import itemgetter"
     ],
     "language": "python",
     "metadata": {},
     "outputs": [],
     "prompt_number": 6
    },
    {
     "cell_type": "code",
     "collapsed": false,
     "input": [
      "with open('film.csv', 'rb') as f:\n",
      "    film_csv = list(csv.reader(f.readlines()))"
     ],
     "language": "python",
     "metadata": {},
     "outputs": [],
     "prompt_number": 7
    },
    {
     "cell_type": "code",
     "collapsed": false,
     "input": [
      "len(films)\n",
      "number_of_rows_to_get = 10"
     ],
     "language": "python",
     "metadata": {},
     "outputs": [],
     "prompt_number": 13
    },
    {
     "cell_type": "code",
     "collapsed": false,
     "input": [
      "headers, films = film_csv[0], film_csv[4:]"
     ],
     "language": "python",
     "metadata": {},
     "outputs": [],
     "prompt_number": 8
    },
    {
     "cell_type": "code",
     "collapsed": false,
     "input": [
      "print '\\n'.join('{0:02d} {1}'.format(index, header) for index, header in enumerate(headers))"
     ],
     "language": "python",
     "metadata": {},
     "outputs": [
      {
       "output_type": "stream",
       "stream": "stdout",
       "text": [
        "00 URI\n",
        "01 rdf-schema#label\n",
        "02 rdf-schema#comment\n",
        "03 basedOn_label\n",
        "04 basedOn\n",
        "05 budget\n",
        "06 cinematography_label\n",
        "07 cinematography\n",
        "08 country_label\n",
        "09 country\n",
        "10 director_label\n",
        "11 director\n",
        "12 distributor_label\n",
        "13 distributor\n",
        "14 editing_label\n",
        "15 editing\n",
        "16 gross\n",
        "17 imdbId\n",
        "18 language_label\n",
        "19 language\n",
        "20 musicComposer_label\n",
        "21 musicComposer\n",
        "22 narrator_label\n",
        "23 narrator\n",
        "24 producer_label\n",
        "25 producer\n",
        "26 releaseDate\n",
        "27 runtime\n",
        "28 starring_label\n",
        "29 starring\n",
        "30 thumbnail_label\n",
        "31 thumbnail\n",
        "32 writer_label\n",
        "33 writer\n",
        "34 point\n",
        "35 22-rdf-syntax-ns#type_label\n",
        "36 22-rdf-syntax-ns#type\n",
        "37 wgs84_pos#lat\n",
        "38 wgs84_pos#long\n",
        "39 depiction_label\n",
        "40 depiction\n",
        "41 homepage_label\n",
        "42 homepage\n",
        "43 name\n"
       ]
      }
     ],
     "prompt_number": 10
    },
    {
     "cell_type": "code",
     "collapsed": false,
     "input": [
      "UNDEFINED = 'NULL'\n",
      "\n",
      "def is_defined(row):\n",
      "    return all(col != UNDEFINED for col in row)\n",
      "\n",
      "def compose(*functions):\n",
      "    def apply_functions(value):\n",
      "        for f in functions:\n",
      "            value = f(value)\n",
      "        return value\n",
      "    return apply_functions\n",
      "\n",
      "def create_getter(headers):\n",
      "    index_dict = {v: k for k, v in enumerate(headers)}\n",
      "    def getter(*columns):\n",
      "        def get_from_row(row):\n",
      "            return [row[index_dict[col]] for col in columns]\n",
      "        return get_from_row\n",
      "    return getter\n",
      "\n",
      "def create_parser(parsers):\n",
      "    def parse(row):\n",
      "        return [parser(col) for col, parser in zip(row, parsers)]\n",
      "    return parse\n",
      "\n",
      "def parse_float(value):\n",
      "    try:\n",
      "        return float(value)\n",
      "    except:\n",
      "        return UNDEFINED"
     ],
     "language": "python",
     "metadata": {},
     "outputs": [],
     "prompt_number": 11
    },
    {
     "cell_type": "code",
     "collapsed": false,
     "input": [
      "get = create_getter(headers)\n",
      "\n",
      "def create_get_and_parse(columns, parsers):\n",
      "    return compose(get(*columns), create_parser(parsers))\n",
      "\n",
      "columns = [\"runtime\", \"name\"]\n",
      "parsers = [parse_float, str]\n",
      "get_and_parse = create_get_and_parse(columns, parsers)\n",
      "\n",
      "filter(is_defined, map(get_and_parse, films[:number_of_rows_to_get]))"
     ],
     "language": "python",
     "metadata": {},
     "outputs": [
      {
       "metadata": {},
       "output_type": "pyout",
       "prompt_number": 14,
       "text": [
        "[[4140.0, 'The Space Children'],\n",
        " [5040.0, 'A Global Affair'],\n",
        " [5700.0, 'The Lively Set'],\n",
        " [5880.0, 'Black Eye'],\n",
        " [5160.0, 'The Wackiest Wagon Train in the West'],\n",
        " [6480.0, 'Jack of Diamonds'],\n",
        " [5940.0, 'Echoes of a Summer'],\n",
        " [6120.0, 'The Great Scout & Cathouse Thursday'],\n",
        " [4080.0, \"Let's Fall in Love\"],\n",
        " [4620.0, 'Just My Luck']]"
       ]
      }
     ],
     "prompt_number": 14
    },
    {
     "cell_type": "code",
     "collapsed": false,
     "input": [
      "map(headers.index, [\"runtime\", \"name\"])"
     ],
     "language": "python",
     "metadata": {},
     "outputs": [
      {
       "metadata": {},
       "output_type": "pyout",
       "prompt_number": 15,
       "text": [
        "[27, 43]"
       ]
      }
     ],
     "prompt_number": 15
    },
    {
     "cell_type": "code",
     "collapsed": false,
     "input": [
      "comparer = lambda x, y: cmp(x[0], y[0])\n",
      "data = sorted(ifilter(is_defined, imap(get_and_parse, films)), cmp=comparer, reverse=True)"
     ],
     "language": "python",
     "metadata": {},
     "outputs": [],
     "prompt_number": 16
    },
    {
     "cell_type": "code",
     "collapsed": false,
     "input": [
      "data[:10]"
     ],
     "language": "python",
     "metadata": {},
     "outputs": [
      {
       "metadata": {},
       "output_type": "pyout",
       "prompt_number": 17,
       "text": [
        "[[60480000.0, 'Kariya'],\n",
        " [8640000.0, 'Saarathee'],\n",
        " [864000.0, 'Modern Times Forever (Stora Enso Building Helsinki)'],\n",
        " [651600.0, 'Cin\\xc3\\xa9maton'],\n",
        " [342000.0, 'Matrjoschka'],\n",
        " [313200.0, 'The Cure for Insomnia'],\n",
        " [294592.0, 'Vijeta'],\n",
        " [292516.0,\n",
        "  '{Kai Koduttha Deivam|\\xe0\\xae\\x95\\xe0\\xaf\\x88 \\xe0\\xae\\x95\\xe0\\xaf\\x8a\\xe0\\xae\\x9f\\xe0\\xaf\\x81\\xe0\\xae\\xa4\\xe0\\xaf\\x8d\\xe0\\xae\\xa4 \\xe0\\xae\\xa4\\xe0\\xaf\\x86\\xe0\\xae\\xaf\\xe0\\xaf\\x8d\\xe0\\xae\\xb5\\xe0\\xae\\xae\\xe0\\xaf\\x8d}'],\n",
        " [289522.0,\n",
        "  '{\\xe0\\xae\\xaa\\xe0\\xae\\xbe\\xe0\\xae\\xb0\\xe0\\xaf\\x8d\\xe0\\xae\\xa4\\xe0\\xaf\\x8d\\xe0\\xae\\xa4\\xe0\\xae\\xbe\\xe0\\xae\\xb2\\xe0\\xaf\\x8d \\xe0\\xae\\xaa\\xe0\\xae\\x9a\\xe0\\xae\\xbf \\xe0\\xae\\xa4\\xe0\\xaf\\x80\\xe0\\xae\\xb0\\xe0\\xaf\\x81\\xe0\\xae\\xae\\xe0\\xaf\\x8d|Paarthaal Pasi Theerum}'],\n",
        " [250260.0, 'Nann Adimai Illai']]"
       ]
      }
     ],
     "prompt_number": 17
    },
    {
     "cell_type": "code",
     "collapsed": false,
     "input": [
      "data[-1]"
     ],
     "language": "python",
     "metadata": {},
     "outputs": []
    },
    {
     "cell_type": "code",
     "collapsed": false,
     "input": [
      "get2 = create_getter(columns)\n",
      "plt.plot(filter(lambda x: 1e3 < x < 1e5, map(get2(\"runtime\"), data)))\n",
      "plt.yscale(\"log\")\n",
      "plt.xlim([-10000, 60000])\n",
      "plt.show()"
     ],
     "language": "python",
     "metadata": {},
     "outputs": []
    },
    {
     "cell_type": "code",
     "collapsed": false,
     "input": [
      "1e3"
     ],
     "language": "python",
     "metadata": {},
     "outputs": []
    },
    {
     "cell_type": "code",
     "collapsed": false,
     "input": [
      "normal_data = filter(lambda x: 1e3 < x[0] < 1e4, map(get2(\"runtime\"), data))\n",
      "plt.plot(normal_data)\n",
      "plt.show()"
     ],
     "language": "python",
     "metadata": {},
     "outputs": []
    },
    {
     "cell_type": "code",
     "collapsed": false,
     "input": [],
     "language": "python",
     "metadata": {},
     "outputs": []
    }
   ],
   "metadata": {}
  }
 ]
}