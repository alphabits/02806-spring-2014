{
 "metadata": {
  "name": ""
 },
 "nbformat": 3,
 "nbformat_minor": 0,
 "worksheets": [
  {
   "cells": [
    {
     "cell_type": "code",
     "collapsed": false,
     "input": [
      "import pandas as pd"
     ],
     "language": "python",
     "metadata": {},
     "outputs": [],
     "prompt_number": 8
    },
    {
     "cell_type": "code",
     "collapsed": false,
     "input": [
      "data = pd.read_csv('film.csv')"
     ],
     "language": "python",
     "metadata": {},
     "outputs": [],
     "prompt_number": 9
    },
    {
     "cell_type": "code",
     "collapsed": false,
     "input": [
      "data.columns"
     ],
     "language": "python",
     "metadata": {},
     "outputs": [
      {
       "metadata": {},
       "output_type": "pyout",
       "prompt_number": 10,
       "text": [
        "Index([u'URI', u'rdf-schema#label', u'rdf-schema#comment', u'basedOn_label', u'basedOn', u'budget', u'cinematography_label', u'cinematography', u'country_label', u'country', u'director_label', u'director', u'distributor_label', u'distributor', u'editing_label', u'editing', u'gross', u'imdbId', u'language_label', u'language', u'musicComposer_label', u'musicComposer', u'narrator_label', u'narrator', u'producer_label', u'producer', u'releaseDate', u'runtime', u'starring_label', u'starring', u'thumbnail_label', u'thumbnail', u'writer_label', u'writer', u'point', u'22-rdf-syntax-ns#type_label', u'22-rdf-syntax-ns#type', u'wgs84_pos#lat', u'wgs84_pos#long', u'depiction_label', u'depiction', u'homepage_label', u'homepage', u'name'], dtype=object)"
       ]
      }
     ],
     "prompt_number": 10
    },
    {
     "cell_type": "code",
     "collapsed": false,
     "input": [
      "for index, column in enumerate(data.columns):\n",
      "    print index, column"
     ],
     "language": "python",
     "metadata": {},
     "outputs": [
      {
       "output_type": "stream",
       "stream": "stdout",
       "text": [
        "0 URI\n",
        "1 rdf-schema#label\n",
        "2 rdf-schema#comment\n",
        "3 basedOn_label\n",
        "4 basedOn\n",
        "5 budget\n",
        "6 cinematography_label\n",
        "7 cinematography\n",
        "8 country_label\n",
        "9 country\n",
        "10 director_label\n",
        "11 director\n",
        "12 distributor_label\n",
        "13 distributor\n",
        "14 editing_label\n",
        "15 editing\n",
        "16 gross\n",
        "17 imdbId\n",
        "18 language_label\n",
        "19 language\n",
        "20 musicComposer_label\n",
        "21 musicComposer\n",
        "22 narrator_label\n",
        "23 narrator\n",
        "24 producer_label\n",
        "25 producer\n",
        "26 releaseDate\n",
        "27 runtime\n",
        "28 starring_label\n",
        "29 starring\n",
        "30 thumbnail_label\n",
        "31 thumbnail\n",
        "32 writer_label\n",
        "33 writer\n",
        "34 point\n",
        "35 22-rdf-syntax-ns#type_label\n",
        "36 22-rdf-syntax-ns#type\n",
        "37 wgs84_pos#lat\n",
        "38 wgs84_pos#long\n",
        "39 depiction_label\n",
        "40 depiction\n",
        "41 homepage_label\n",
        "42 homepage\n",
        "43 name\n"
       ]
      }
     ],
     "prompt_number": 12
    },
    {
     "cell_type": "code",
     "collapsed": false,
     "input": [
      "data[3:13][[\"name\",\"runtime\"]]"
     ],
     "language": "python",
     "metadata": {},
     "outputs": [
      {
       "html": [
        "<div style=\"max-height:1000px;max-width:1500px;overflow:auto;\">\n",
        "<table border=\"1\" class=\"dataframe\">\n",
        "  <thead>\n",
        "    <tr style=\"text-align: right;\">\n",
        "      <th></th>\n",
        "      <th>name</th>\n",
        "      <th>runtime</th>\n",
        "    </tr>\n",
        "  </thead>\n",
        "  <tbody>\n",
        "    <tr>\n",
        "      <th>3 </th>\n",
        "      <td>                   The Space Children</td>\n",
        "      <td> 4140.0</td>\n",
        "    </tr>\n",
        "    <tr>\n",
        "      <th>4 </th>\n",
        "      <td>                      A Global Affair</td>\n",
        "      <td> 5040.0</td>\n",
        "    </tr>\n",
        "    <tr>\n",
        "      <th>5 </th>\n",
        "      <td>                       The Lively Set</td>\n",
        "      <td> 5700.0</td>\n",
        "    </tr>\n",
        "    <tr>\n",
        "      <th>6 </th>\n",
        "      <td>                            Black Eye</td>\n",
        "      <td> 5880.0</td>\n",
        "    </tr>\n",
        "    <tr>\n",
        "      <th>7 </th>\n",
        "      <td> The Wackiest Wagon Train in the West</td>\n",
        "      <td> 5160.0</td>\n",
        "    </tr>\n",
        "    <tr>\n",
        "      <th>8 </th>\n",
        "      <td>                     Jack of Diamonds</td>\n",
        "      <td> 6480.0</td>\n",
        "    </tr>\n",
        "    <tr>\n",
        "      <th>9 </th>\n",
        "      <td>                   Echoes of a Summer</td>\n",
        "      <td> 5940.0</td>\n",
        "    </tr>\n",
        "    <tr>\n",
        "      <th>10</th>\n",
        "      <td>  The Great Scout &amp; Cathouse Thursday</td>\n",
        "      <td> 6120.0</td>\n",
        "    </tr>\n",
        "    <tr>\n",
        "      <th>11</th>\n",
        "      <td>                   Let's Fall in Love</td>\n",
        "      <td> 4080.0</td>\n",
        "    </tr>\n",
        "    <tr>\n",
        "      <th>12</th>\n",
        "      <td>                         Just My Luck</td>\n",
        "      <td> 4620.0</td>\n",
        "    </tr>\n",
        "  </tbody>\n",
        "</table>\n",
        "</div>"
       ],
       "metadata": {},
       "output_type": "pyout",
       "prompt_number": 31,
       "text": [
        "                                    name runtime\n",
        "3                     The Space Children  4140.0\n",
        "4                        A Global Affair  5040.0\n",
        "5                         The Lively Set  5700.0\n",
        "6                              Black Eye  5880.0\n",
        "7   The Wackiest Wagon Train in the West  5160.0\n",
        "8                       Jack of Diamonds  6480.0\n",
        "9                     Echoes of a Summer  5940.0\n",
        "10   The Great Scout & Cathouse Thursday  6120.0\n",
        "11                    Let's Fall in Love  4080.0\n",
        "12                          Just My Luck  4620.0"
       ]
      }
     ],
     "prompt_number": 31
    },
    {
     "cell_type": "code",
     "collapsed": false,
     "input": [
      "pd.set_option(\"max_columns\", 44)\n",
      "pd.set_option(\"max_rows\", 40)"
     ],
     "language": "python",
     "metadata": {},
     "outputs": [],
     "prompt_number": 28
    },
    {
     "cell_type": "code",
     "collapsed": false,
     "input": [
      "new_data = data[3:]"
     ],
     "language": "python",
     "metadata": {},
     "outputs": [],
     "prompt_number": 61
    },
    {
     "cell_type": "code",
     "collapsed": false,
     "input": [
      "new_data[[\"URI\",\"runtime\",\"name\"]][new_data[\"runtime\"].isnull()][:2]"
     ],
     "language": "python",
     "metadata": {},
     "outputs": [
      {
       "html": [
        "<div style=\"max-height:1000px;max-width:1500px;overflow:auto;\">\n",
        "<table border=\"1\" class=\"dataframe\">\n",
        "  <thead>\n",
        "    <tr style=\"text-align: right;\">\n",
        "      <th></th>\n",
        "      <th>URI</th>\n",
        "      <th>runtime</th>\n",
        "      <th>name</th>\n",
        "    </tr>\n",
        "  </thead>\n",
        "  <tbody>\n",
        "    <tr>\n",
        "      <th>17</th>\n",
        "      <td> http://dbpedia.org/resource/The_Round_Up_(2010...</td>\n",
        "      <td> NaN</td>\n",
        "      <td>                          The Round Up</td>\n",
        "    </tr>\n",
        "    <tr>\n",
        "      <th>22</th>\n",
        "      <td> http://dbpedia.org/resource/Noon_at_Ngayon:_Pa...</td>\n",
        "      <td> NaN</td>\n",
        "      <td> Noon at Ngayon: Pagsasamang Kay Ganda</td>\n",
        "    </tr>\n",
        "  </tbody>\n",
        "</table>\n",
        "</div>"
       ],
       "metadata": {},
       "output_type": "pyout",
       "prompt_number": 63,
       "text": [
        "                                                  URI runtime                                   name\n",
        "17  http://dbpedia.org/resource/The_Round_Up_(2010...     NaN                           The Round Up\n",
        "22  http://dbpedia.org/resource/Noon_at_Ngayon:_Pa...     NaN  Noon at Ngayon: Pagsasamang Kay Ganda"
       ]
      }
     ],
     "prompt_number": 63
    },
    {
     "cell_type": "code",
     "collapsed": false,
     "input": [
      "runtime_data = new_data[new_data[\"runtime\"].notnull()][[\"name\",\"runtime\"]]"
     ],
     "language": "python",
     "metadata": {},
     "outputs": [],
     "prompt_number": 71
    },
    {
     "cell_type": "code",
     "collapsed": false,
     "input": [
      "runtime_data"
     ],
     "language": "python",
     "metadata": {},
     "outputs": [
      {
       "html": [
        "<pre>\n",
        "&lt;class 'pandas.core.frame.DataFrame'&gt;\n",
        "Int64Index: 55601 entries, 3 to 77771\n",
        "Data columns (total 2 columns):\n",
        "name       55061  non-null values\n",
        "runtime    55601  non-null values\n",
        "dtypes: object(2)\n",
        "</pre>"
       ],
       "metadata": {},
       "output_type": "pyout",
       "prompt_number": 72,
       "text": [
        "<class 'pandas.core.frame.DataFrame'>\n",
        "Int64Index: 55601 entries, 3 to 77771\n",
        "Data columns (total 2 columns):\n",
        "name       55061  non-null values\n",
        "runtime    55601  non-null values\n",
        "dtypes: object(2)"
       ]
      }
     ],
     "prompt_number": 72
    },
    {
     "cell_type": "code",
     "collapsed": false,
     "input": [
      "runtimes = runtime_data[\"runtime\"].values.tolist()"
     ],
     "language": "python",
     "metadata": {},
     "outputs": [],
     "prompt_number": 80
    },
    {
     "cell_type": "code",
     "collapsed": false,
     "input": [
      "d = runtime_data[runtime_data[\"runtime\"].map(is_number)]"
     ],
     "language": "python",
     "metadata": {},
     "outputs": [],
     "prompt_number": 116
    },
    {
     "cell_type": "code",
     "collapsed": false,
     "input": [
      "d_sorted = d.sort(['runtime'])"
     ],
     "language": "python",
     "metadata": {},
     "outputs": [],
     "prompt_number": 123
    },
    {
     "cell_type": "code",
     "collapsed": false,
     "input": [
      "d[\"runtime\"] = d[\"runtime\"].map(float)"
     ],
     "language": "python",
     "metadata": {},
     "outputs": [],
     "prompt_number": 119
    },
    {
     "cell_type": "code",
     "collapsed": false,
     "input": [
      "def is_number(x):\n",
      "    try:\n",
      "        float(x)\n",
      "        return True\n",
      "    except:\n",
      "        return False"
     ],
     "language": "python",
     "metadata": {},
     "outputs": [],
     "prompt_number": 113
    },
    {
     "cell_type": "code",
     "collapsed": false,
     "input": [
      "d_sorted.head(10)"
     ],
     "language": "python",
     "metadata": {},
     "outputs": [
      {
       "html": [
        "<div style=\"max-height:1000px;max-width:1500px;overflow:auto;\">\n",
        "<table border=\"1\" class=\"dataframe\">\n",
        "  <thead>\n",
        "    <tr style=\"text-align: right;\">\n",
        "      <th></th>\n",
        "      <th>name</th>\n",
        "      <th>runtime</th>\n",
        "    </tr>\n",
        "  </thead>\n",
        "  <tbody>\n",
        "    <tr>\n",
        "      <th>74950</th>\n",
        "      <td> Monty Python &amp; the Holy Grail in Lego</td>\n",
        "      <td> 2.00</td>\n",
        "    </tr>\n",
        "    <tr>\n",
        "      <th>13785</th>\n",
        "      <td>                 Roundhay Garden Scene</td>\n",
        "      <td> 2.11</td>\n",
        "    </tr>\n",
        "    <tr>\n",
        "      <th>2823 </th>\n",
        "      <td>                              Contract</td>\n",
        "      <td> 3.00</td>\n",
        "    </tr>\n",
        "    <tr>\n",
        "      <th>12510</th>\n",
        "      <td>                      Dickson Greeting</td>\n",
        "      <td> 3.00</td>\n",
        "    </tr>\n",
        "    <tr>\n",
        "      <th>1894 </th>\n",
        "      <td>            Sallie Gardner at a Gallop</td>\n",
        "      <td> 3.00</td>\n",
        "    </tr>\n",
        "    <tr>\n",
        "      <th>13804</th>\n",
        "      <td>                     Fred Ott's Sneeze</td>\n",
        "      <td> 5.00</td>\n",
        "    </tr>\n",
        "    <tr>\n",
        "      <th>43823</th>\n",
        "      <td>                            Men Boxing</td>\n",
        "      <td> 5.00</td>\n",
        "    </tr>\n",
        "    <tr>\n",
        "      <th>34247</th>\n",
        "      <td>               Akrobatisches Potpourri</td>\n",
        "      <td> 6.00</td>\n",
        "    </tr>\n",
        "    <tr>\n",
        "      <th>35028</th>\n",
        "      <td>                      Serpentinen Tanz</td>\n",
        "      <td> 6.00</td>\n",
        "    </tr>\n",
        "    <tr>\n",
        "      <th>31171</th>\n",
        "      <td>                           Soldier Boy</td>\n",
        "      <td> 7.00</td>\n",
        "    </tr>\n",
        "  </tbody>\n",
        "</table>\n",
        "</div>"
       ],
       "metadata": {},
       "output_type": "pyout",
       "prompt_number": 125,
       "text": [
        "                                        name  runtime\n",
        "74950  Monty Python & the Holy Grail in Lego     2.00\n",
        "13785                  Roundhay Garden Scene     2.11\n",
        "2823                                Contract     3.00\n",
        "12510                       Dickson Greeting     3.00\n",
        "1894              Sallie Gardner at a Gallop     3.00\n",
        "13804                      Fred Ott's Sneeze     5.00\n",
        "43823                             Men Boxing     5.00\n",
        "34247                Akrobatisches Potpourri     6.00\n",
        "35028                       Serpentinen Tanz     6.00\n",
        "31171                            Soldier Boy     7.00"
       ]
      }
     ],
     "prompt_number": 125
    },
    {
     "cell_type": "code",
     "collapsed": false,
     "input": [
      "d_sorted.tail(10)"
     ],
     "language": "python",
     "metadata": {},
     "outputs": [
      {
       "html": [
        "<div style=\"max-height:1000px;max-width:1500px;overflow:auto;\">\n",
        "<table border=\"1\" class=\"dataframe\">\n",
        "  <thead>\n",
        "    <tr style=\"text-align: right;\">\n",
        "      <th></th>\n",
        "      <th>name</th>\n",
        "      <th>runtime</th>\n",
        "    </tr>\n",
        "  </thead>\n",
        "  <tbody>\n",
        "    <tr>\n",
        "      <th>35104</th>\n",
        "      <td>                                 Nann Adimai Illai</td>\n",
        "      <td>   250260</td>\n",
        "    </tr>\n",
        "    <tr>\n",
        "      <th>67555</th>\n",
        "      <td>    {\u0baa\u0bbe\u0bb0\u0bcd\u0ba4\u0bcd\u0ba4\u0bbe\u0bb2\u0bcd \u0baa\u0b9a\u0bbf \u0ba4\u0bc0\u0bb0\u0bc1\u0bae\u0bcd|Paarthaal Pasi Theerum}</td>\n",
        "      <td>   289522</td>\n",
        "    </tr>\n",
        "    <tr>\n",
        "      <th>61993</th>\n",
        "      <td>          {Kai Koduttha Deivam|\u0b95\u0bc8 \u0b95\u0bca\u0b9f\u0bc1\u0ba4\u0bcd\u0ba4 \u0ba4\u0bc6\u0baf\u0bcd\u0bb5\u0bae\u0bcd}</td>\n",
        "      <td>   292516</td>\n",
        "    </tr>\n",
        "    <tr>\n",
        "      <th>34297</th>\n",
        "      <td>                                            Vijeta</td>\n",
        "      <td>   294592</td>\n",
        "    </tr>\n",
        "    <tr>\n",
        "      <th>13151</th>\n",
        "      <td>                             The Cure for Insomnia</td>\n",
        "      <td>   313200</td>\n",
        "    </tr>\n",
        "    <tr>\n",
        "      <th>51780</th>\n",
        "      <td>                                       Matrjoschka</td>\n",
        "      <td>   342000</td>\n",
        "    </tr>\n",
        "    <tr>\n",
        "      <th>548  </th>\n",
        "      <td>                                         Cin\u00e9maton</td>\n",
        "      <td>   651600</td>\n",
        "    </tr>\n",
        "    <tr>\n",
        "      <th>44222</th>\n",
        "      <td> Modern Times Forever (Stora Enso Building Hels...</td>\n",
        "      <td>   864000</td>\n",
        "    </tr>\n",
        "    <tr>\n",
        "      <th>46184</th>\n",
        "      <td>                                         Saarathee</td>\n",
        "      <td>  8640000</td>\n",
        "    </tr>\n",
        "    <tr>\n",
        "      <th>44829</th>\n",
        "      <td>                                            Kariya</td>\n",
        "      <td> 60480000</td>\n",
        "    </tr>\n",
        "  </tbody>\n",
        "</table>\n",
        "</div>"
       ],
       "metadata": {},
       "output_type": "pyout",
       "prompt_number": 126,
       "text": [
        "                                                    name   runtime\n",
        "35104                                  Nann Adimai Illai    250260\n",
        "67555     {\u0baa\u0bbe\u0bb0\u0bcd\u0ba4\u0bcd\u0ba4\u0bbe\u0bb2\u0bcd \u0baa\u0b9a\u0bbf \u0ba4\u0bc0\u0bb0\u0bc1\u0bae\u0bcd|Paarthaal Pasi Theerum}    289522\n",
        "61993           {Kai Koduttha Deivam|\u0b95\u0bc8 \u0b95\u0bca\u0b9f\u0bc1\u0ba4\u0bcd\u0ba4 \u0ba4\u0bc6\u0baf\u0bcd\u0bb5\u0bae\u0bcd}    292516\n",
        "34297                                             Vijeta    294592\n",
        "13151                              The Cure for Insomnia    313200\n",
        "51780                                        Matrjoschka    342000\n",
        "548                                            Cin\u00e9maton    651600\n",
        "44222  Modern Times Forever (Stora Enso Building Hels...    864000\n",
        "46184                                          Saarathee   8640000\n",
        "44829                                             Kariya  60480000"
       ]
      }
     ],
     "prompt_number": 126
    },
    {
     "cell_type": "code",
     "collapsed": false,
     "input": [
      "def pretty_print_runtime(runtime):\n",
      "    time_units = [\n",
      "        { 'label': 'years', 'base': False },\n",
      "        { 'label': 'days', 'base': 365. },\n",
      "        { 'label': 'hours', 'base': 24. },\n",
      "        { 'label': 'minutes', 'base': 60. },\n",
      "        { 'label': 'seconds', 'base': 60. }\n",
      "    ]\n",
      "    current = time_units.pop()\n",
      "    while current['base'] and runtime >= current['base'] and time_units:\n",
      "        runtime /= current['base']\n",
      "        current = time_units.pop()\n",
      "    return runtime, current['label']"
     ],
     "language": "python",
     "metadata": {},
     "outputs": [],
     "prompt_number": 166
    },
    {
     "cell_type": "code",
     "collapsed": false,
     "input": [
      "d_sorted[\"runtime\"] = d_sorted[\"runtime\"].map(pretty_print_runtime)"
     ],
     "language": "python",
     "metadata": {},
     "outputs": [],
     "prompt_number": 163
    },
    {
     "cell_type": "code",
     "collapsed": false,
     "input": [
      "d_sorted.tail(10)"
     ],
     "language": "python",
     "metadata": {},
     "outputs": [
      {
       "html": [
        "<div style=\"max-height:1000px;max-width:1500px;overflow:auto;\">\n",
        "<table border=\"1\" class=\"dataframe\">\n",
        "  <thead>\n",
        "    <tr style=\"text-align: right;\">\n",
        "      <th></th>\n",
        "      <th>name</th>\n",
        "      <th>runtime</th>\n",
        "    </tr>\n",
        "  </thead>\n",
        "  <tbody>\n",
        "    <tr>\n",
        "      <th>35104</th>\n",
        "      <td>                                 Nann Adimai Illai</td>\n",
        "      <td>  (2.89652777778, days)</td>\n",
        "    </tr>\n",
        "    <tr>\n",
        "      <th>67555</th>\n",
        "      <td>    {\u0baa\u0bbe\u0bb0\u0bcd\u0ba4\u0bcd\u0ba4\u0bbe\u0bb2\u0bcd \u0baa\u0b9a\u0bbf \u0ba4\u0bc0\u0bb0\u0bc1\u0bae\u0bcd|Paarthaal Pasi Theerum}</td>\n",
        "      <td>  (3.35094907407, days)</td>\n",
        "    </tr>\n",
        "    <tr>\n",
        "      <th>61993</th>\n",
        "      <td>          {Kai Koduttha Deivam|\u0b95\u0bc8 \u0b95\u0bca\u0b9f\u0bc1\u0ba4\u0bcd\u0ba4 \u0ba4\u0bc6\u0baf\u0bcd\u0bb5\u0bae\u0bcd}</td>\n",
        "      <td>  (3.38560185185, days)</td>\n",
        "    </tr>\n",
        "    <tr>\n",
        "      <th>34297</th>\n",
        "      <td>                                            Vijeta</td>\n",
        "      <td>  (3.40962962963, days)</td>\n",
        "    </tr>\n",
        "    <tr>\n",
        "      <th>13151</th>\n",
        "      <td>                             The Cure for Insomnia</td>\n",
        "      <td>          (3.625, days)</td>\n",
        "    </tr>\n",
        "    <tr>\n",
        "      <th>51780</th>\n",
        "      <td>                                       Matrjoschka</td>\n",
        "      <td>  (3.95833333333, days)</td>\n",
        "    </tr>\n",
        "    <tr>\n",
        "      <th>548  </th>\n",
        "      <td>                                         Cin\u00e9maton</td>\n",
        "      <td>  (7.54166666667, days)</td>\n",
        "    </tr>\n",
        "    <tr>\n",
        "      <th>44222</th>\n",
        "      <td> Modern Times Forever (Stora Enso Building Hels...</td>\n",
        "      <td>           (10.0, days)</td>\n",
        "    </tr>\n",
        "    <tr>\n",
        "      <th>46184</th>\n",
        "      <td>                                         Saarathee</td>\n",
        "      <td>          (100.0, days)</td>\n",
        "    </tr>\n",
        "    <tr>\n",
        "      <th>44829</th>\n",
        "      <td>                                            Kariya</td>\n",
        "      <td> (1.91780821918, years)</td>\n",
        "    </tr>\n",
        "  </tbody>\n",
        "</table>\n",
        "</div>"
       ],
       "metadata": {},
       "output_type": "pyout",
       "prompt_number": 165,
       "text": [
        "                                                    name                 runtime\n",
        "35104                                  Nann Adimai Illai   (2.89652777778, days)\n",
        "67555     {\u0baa\u0bbe\u0bb0\u0bcd\u0ba4\u0bcd\u0ba4\u0bbe\u0bb2\u0bcd \u0baa\u0b9a\u0bbf \u0ba4\u0bc0\u0bb0\u0bc1\u0bae\u0bcd|Paarthaal Pasi Theerum}   (3.35094907407, days)\n",
        "61993           {Kai Koduttha Deivam|\u0b95\u0bc8 \u0b95\u0bca\u0b9f\u0bc1\u0ba4\u0bcd\u0ba4 \u0ba4\u0bc6\u0baf\u0bcd\u0bb5\u0bae\u0bcd}   (3.38560185185, days)\n",
        "34297                                             Vijeta   (3.40962962963, days)\n",
        "13151                              The Cure for Insomnia           (3.625, days)\n",
        "51780                                        Matrjoschka   (3.95833333333, days)\n",
        "548                                            Cin\u00e9maton   (7.54166666667, days)\n",
        "44222  Modern Times Forever (Stora Enso Building Hels...            (10.0, days)\n",
        "46184                                          Saarathee           (100.0, days)\n",
        "44829                                             Kariya  (1.91780821918, years)"
       ]
      }
     ],
     "prompt_number": 165
    },
    {
     "cell_type": "code",
     "collapsed": false,
     "input": [],
     "language": "python",
     "metadata": {},
     "outputs": []
    }
   ],
   "metadata": {}
  }
 ]
}