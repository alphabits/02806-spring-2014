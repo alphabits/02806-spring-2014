{
 "metadata": {
  "name": ""
 },
 "nbformat": 3,
 "nbformat_minor": 0,
 "worksheets": [
  {
   "cells": [
    {
     "cell_type": "code",
     "collapsed": false,
     "input": [
      "import pandas as pd\n",
      "from matplotlib import pyplot as plt"
     ],
     "language": "python",
     "metadata": {},
     "outputs": [],
     "prompt_number": 1
    },
    {
     "cell_type": "code",
     "collapsed": false,
     "input": [
      "data = pd.read_csv('film.csv')"
     ],
     "language": "python",
     "metadata": {},
     "outputs": [],
     "prompt_number": 2
    },
    {
     "cell_type": "code",
     "collapsed": false,
     "input": [
      "data.columns"
     ],
     "language": "python",
     "metadata": {},
     "outputs": [
      {
       "metadata": {},
       "output_type": "pyout",
       "prompt_number": 3,
       "text": [
        "Index([u'URI', u'rdf-schema#label', u'rdf-schema#comment', u'basedOn_label', u'basedOn', u'budget', u'cinematography_label', u'cinematography', u'country_label', u'country', u'director_label', u'director', u'distributor_label', u'distributor', u'editing_label', u'editing', u'gross', u'imdbId', u'language_label', u'language', u'musicComposer_label', u'musicComposer', u'narrator_label', u'narrator', u'producer_label', u'producer', u'releaseDate', u'runtime', u'starring_label', u'starring', u'thumbnail_label', u'thumbnail', u'writer_label', u'writer', u'point', u'22-rdf-syntax-ns#type_label', u'22-rdf-syntax-ns#type', u'wgs84_pos#lat', u'wgs84_pos#long', u'depiction_label', u'depiction', u'homepage_label', u'homepage', u'name'], dtype=object)"
       ]
      }
     ],
     "prompt_number": 3
    },
    {
     "cell_type": "code",
     "collapsed": false,
     "input": [
      "for index, column in enumerate(data.columns):\n",
      "    print index, column"
     ],
     "language": "python",
     "metadata": {},
     "outputs": [
      {
       "output_type": "stream",
       "stream": "stdout",
       "text": [
        "0 URI\n",
        "1 rdf-schema#label\n",
        "2 rdf-schema#comment\n",
        "3 basedOn_label\n",
        "4 basedOn\n",
        "5 budget\n",
        "6 cinematography_label\n",
        "7 cinematography\n",
        "8 country_label\n",
        "9 country\n",
        "10 director_label\n",
        "11 director\n",
        "12 distributor_label\n",
        "13 distributor\n",
        "14 editing_label\n",
        "15 editing\n",
        "16 gross\n",
        "17 imdbId\n",
        "18 language_label\n",
        "19 language\n",
        "20 musicComposer_label\n",
        "21 musicComposer\n",
        "22 narrator_label\n",
        "23 narrator\n",
        "24 producer_label\n",
        "25 producer\n",
        "26 releaseDate\n",
        "27 runtime\n",
        "28 starring_label\n",
        "29 starring\n",
        "30 thumbnail_label\n",
        "31 thumbnail\n",
        "32 writer_label\n",
        "33 writer\n",
        "34 point\n",
        "35 22-rdf-syntax-ns#type_label\n",
        "36 22-rdf-syntax-ns#type\n",
        "37 wgs84_pos#lat\n",
        "38 wgs84_pos#long\n",
        "39 depiction_label\n",
        "40 depiction\n",
        "41 homepage_label\n",
        "42 homepage\n",
        "43 name\n"
       ]
      }
     ],
     "prompt_number": 4
    },
    {
     "cell_type": "code",
     "collapsed": false,
     "input": [
      "data[3:13][[\"name\",\"runtime\"]]"
     ],
     "language": "python",
     "metadata": {},
     "outputs": [
      {
       "html": [
        "<div style=\"max-height:1000px;max-width:1500px;overflow:auto;\">\n",
        "<table border=\"1\" class=\"dataframe\">\n",
        "  <thead>\n",
        "    <tr style=\"text-align: right;\">\n",
        "      <th></th>\n",
        "      <th>name</th>\n",
        "      <th>runtime</th>\n",
        "    </tr>\n",
        "  </thead>\n",
        "  <tbody>\n",
        "    <tr>\n",
        "      <th>3 </th>\n",
        "      <td>                   The Space Children</td>\n",
        "      <td> 4140.0</td>\n",
        "    </tr>\n",
        "    <tr>\n",
        "      <th>4 </th>\n",
        "      <td>                      A Global Affair</td>\n",
        "      <td> 5040.0</td>\n",
        "    </tr>\n",
        "    <tr>\n",
        "      <th>5 </th>\n",
        "      <td>                       The Lively Set</td>\n",
        "      <td> 5700.0</td>\n",
        "    </tr>\n",
        "    <tr>\n",
        "      <th>6 </th>\n",
        "      <td>                            Black Eye</td>\n",
        "      <td> 5880.0</td>\n",
        "    </tr>\n",
        "    <tr>\n",
        "      <th>7 </th>\n",
        "      <td> The Wackiest Wagon Train in the West</td>\n",
        "      <td> 5160.0</td>\n",
        "    </tr>\n",
        "    <tr>\n",
        "      <th>8 </th>\n",
        "      <td>                     Jack of Diamonds</td>\n",
        "      <td> 6480.0</td>\n",
        "    </tr>\n",
        "    <tr>\n",
        "      <th>9 </th>\n",
        "      <td>                   Echoes of a Summer</td>\n",
        "      <td> 5940.0</td>\n",
        "    </tr>\n",
        "    <tr>\n",
        "      <th>10</th>\n",
        "      <td>  The Great Scout &amp; Cathouse Thursday</td>\n",
        "      <td> 6120.0</td>\n",
        "    </tr>\n",
        "    <tr>\n",
        "      <th>11</th>\n",
        "      <td>                   Let's Fall in Love</td>\n",
        "      <td> 4080.0</td>\n",
        "    </tr>\n",
        "    <tr>\n",
        "      <th>12</th>\n",
        "      <td>                         Just My Luck</td>\n",
        "      <td> 4620.0</td>\n",
        "    </tr>\n",
        "  </tbody>\n",
        "</table>\n",
        "</div>"
       ],
       "metadata": {},
       "output_type": "pyout",
       "prompt_number": 5,
       "text": [
        "                                    name runtime\n",
        "3                     The Space Children  4140.0\n",
        "4                        A Global Affair  5040.0\n",
        "5                         The Lively Set  5700.0\n",
        "6                              Black Eye  5880.0\n",
        "7   The Wackiest Wagon Train in the West  5160.0\n",
        "8                       Jack of Diamonds  6480.0\n",
        "9                     Echoes of a Summer  5940.0\n",
        "10   The Great Scout & Cathouse Thursday  6120.0\n",
        "11                    Let's Fall in Love  4080.0\n",
        "12                          Just My Luck  4620.0"
       ]
      }
     ],
     "prompt_number": 5
    },
    {
     "cell_type": "code",
     "collapsed": false,
     "input": [
      "pd.set_option(\"max_columns\", 44)\n",
      "pd.set_option(\"max_rows\", 40)"
     ],
     "language": "python",
     "metadata": {},
     "outputs": [],
     "prompt_number": 6
    },
    {
     "cell_type": "code",
     "collapsed": false,
     "input": [
      "new_data = data[3:]"
     ],
     "language": "python",
     "metadata": {},
     "outputs": [],
     "prompt_number": 7
    },
    {
     "cell_type": "code",
     "collapsed": false,
     "input": [
      "new_data[[\"URI\",\"runtime\",\"name\"]][new_data[\"runtime\"].isnull()][:2]"
     ],
     "language": "python",
     "metadata": {},
     "outputs": [
      {
       "html": [
        "<div style=\"max-height:1000px;max-width:1500px;overflow:auto;\">\n",
        "<table border=\"1\" class=\"dataframe\">\n",
        "  <thead>\n",
        "    <tr style=\"text-align: right;\">\n",
        "      <th></th>\n",
        "      <th>URI</th>\n",
        "      <th>runtime</th>\n",
        "      <th>name</th>\n",
        "    </tr>\n",
        "  </thead>\n",
        "  <tbody>\n",
        "    <tr>\n",
        "      <th>17</th>\n",
        "      <td> http://dbpedia.org/resource/The_Round_Up_(2010...</td>\n",
        "      <td> NaN</td>\n",
        "      <td>                          The Round Up</td>\n",
        "    </tr>\n",
        "    <tr>\n",
        "      <th>22</th>\n",
        "      <td> http://dbpedia.org/resource/Noon_at_Ngayon:_Pa...</td>\n",
        "      <td> NaN</td>\n",
        "      <td> Noon at Ngayon: Pagsasamang Kay Ganda</td>\n",
        "    </tr>\n",
        "  </tbody>\n",
        "</table>\n",
        "</div>"
       ],
       "metadata": {},
       "output_type": "pyout",
       "prompt_number": 8,
       "text": [
        "                                                  URI runtime                                   name\n",
        "17  http://dbpedia.org/resource/The_Round_Up_(2010...     NaN                           The Round Up\n",
        "22  http://dbpedia.org/resource/Noon_at_Ngayon:_Pa...     NaN  Noon at Ngayon: Pagsasamang Kay Ganda"
       ]
      }
     ],
     "prompt_number": 8
    },
    {
     "cell_type": "code",
     "collapsed": false,
     "input": [
      "runtime_data = new_data[new_data[\"runtime\"].notnull()][[\"name\",\"runtime\"]]"
     ],
     "language": "python",
     "metadata": {},
     "outputs": [],
     "prompt_number": 9
    },
    {
     "cell_type": "code",
     "collapsed": false,
     "input": [
      "runtime_data"
     ],
     "language": "python",
     "metadata": {},
     "outputs": [
      {
       "html": [
        "<pre>\n",
        "&lt;class 'pandas.core.frame.DataFrame'&gt;\n",
        "Int64Index: 55601 entries, 3 to 77771\n",
        "Data columns (total 2 columns):\n",
        "name       55061  non-null values\n",
        "runtime    55601  non-null values\n",
        "dtypes: object(2)\n",
        "</pre>"
       ],
       "metadata": {},
       "output_type": "pyout",
       "prompt_number": 10,
       "text": [
        "<class 'pandas.core.frame.DataFrame'>\n",
        "Int64Index: 55601 entries, 3 to 77771\n",
        "Data columns (total 2 columns):\n",
        "name       55061  non-null values\n",
        "runtime    55601  non-null values\n",
        "dtypes: object(2)"
       ]
      }
     ],
     "prompt_number": 10
    },
    {
     "cell_type": "code",
     "collapsed": false,
     "input": [
      "runtimes = runtime_data[\"runtime\"].values.tolist()"
     ],
     "language": "python",
     "metadata": {},
     "outputs": [],
     "prompt_number": 11
    },
    {
     "cell_type": "code",
     "collapsed": false,
     "input": [
      "def is_number(x):\n",
      "    try:\n",
      "        float(x)\n",
      "        return True\n",
      "    except:\n",
      "        return False"
     ],
     "language": "python",
     "metadata": {},
     "outputs": [],
     "prompt_number": 12
    },
    {
     "cell_type": "code",
     "collapsed": false,
     "input": [
      "d = runtime_data[runtime_data[\"runtime\"].map(is_number)]"
     ],
     "language": "python",
     "metadata": {},
     "outputs": [],
     "prompt_number": 13
    },
    {
     "cell_type": "code",
     "collapsed": false,
     "input": [
      "d[\"runtime\"] = d[\"runtime\"].map(float)"
     ],
     "language": "python",
     "metadata": {},
     "outputs": [],
     "prompt_number": 14
    },
    {
     "cell_type": "code",
     "collapsed": false,
     "input": [
      "d_sorted = d.sort(['runtime'], ascending=False)"
     ],
     "language": "python",
     "metadata": {},
     "outputs": [],
     "prompt_number": 15
    },
    {
     "cell_type": "code",
     "collapsed": false,
     "input": [
      "d_sorted.head(10)"
     ],
     "language": "python",
     "metadata": {},
     "outputs": [
      {
       "html": [
        "<div style=\"max-height:1000px;max-width:1500px;overflow:auto;\">\n",
        "<table border=\"1\" class=\"dataframe\">\n",
        "  <thead>\n",
        "    <tr style=\"text-align: right;\">\n",
        "      <th></th>\n",
        "      <th>name</th>\n",
        "      <th>runtime</th>\n",
        "    </tr>\n",
        "  </thead>\n",
        "  <tbody>\n",
        "    <tr>\n",
        "      <th>44829</th>\n",
        "      <td>                                            Kariya</td>\n",
        "      <td> 60480000</td>\n",
        "    </tr>\n",
        "    <tr>\n",
        "      <th>46184</th>\n",
        "      <td>                                         Saarathee</td>\n",
        "      <td>  8640000</td>\n",
        "    </tr>\n",
        "    <tr>\n",
        "      <th>44222</th>\n",
        "      <td> Modern Times Forever (Stora Enso Building Hels...</td>\n",
        "      <td>   864000</td>\n",
        "    </tr>\n",
        "    <tr>\n",
        "      <th>548  </th>\n",
        "      <td>                                         Cin\u00e9maton</td>\n",
        "      <td>   651600</td>\n",
        "    </tr>\n",
        "    <tr>\n",
        "      <th>51780</th>\n",
        "      <td>                                       Matrjoschka</td>\n",
        "      <td>   342000</td>\n",
        "    </tr>\n",
        "    <tr>\n",
        "      <th>13151</th>\n",
        "      <td>                             The Cure for Insomnia</td>\n",
        "      <td>   313200</td>\n",
        "    </tr>\n",
        "    <tr>\n",
        "      <th>34297</th>\n",
        "      <td>                                            Vijeta</td>\n",
        "      <td>   294592</td>\n",
        "    </tr>\n",
        "    <tr>\n",
        "      <th>61993</th>\n",
        "      <td>          {Kai Koduttha Deivam|\u0b95\u0bc8 \u0b95\u0bca\u0b9f\u0bc1\u0ba4\u0bcd\u0ba4 \u0ba4\u0bc6\u0baf\u0bcd\u0bb5\u0bae\u0bcd}</td>\n",
        "      <td>   292516</td>\n",
        "    </tr>\n",
        "    <tr>\n",
        "      <th>67555</th>\n",
        "      <td>    {\u0baa\u0bbe\u0bb0\u0bcd\u0ba4\u0bcd\u0ba4\u0bbe\u0bb2\u0bcd \u0baa\u0b9a\u0bbf \u0ba4\u0bc0\u0bb0\u0bc1\u0bae\u0bcd|Paarthaal Pasi Theerum}</td>\n",
        "      <td>   289522</td>\n",
        "    </tr>\n",
        "    <tr>\n",
        "      <th>35104</th>\n",
        "      <td>                                 Nann Adimai Illai</td>\n",
        "      <td>   250260</td>\n",
        "    </tr>\n",
        "  </tbody>\n",
        "</table>\n",
        "</div>"
       ],
       "metadata": {},
       "output_type": "pyout",
       "prompt_number": 16,
       "text": [
        "                                                    name   runtime\n",
        "44829                                             Kariya  60480000\n",
        "46184                                          Saarathee   8640000\n",
        "44222  Modern Times Forever (Stora Enso Building Hels...    864000\n",
        "548                                            Cin\u00e9maton    651600\n",
        "51780                                        Matrjoschka    342000\n",
        "13151                              The Cure for Insomnia    313200\n",
        "34297                                             Vijeta    294592\n",
        "61993           {Kai Koduttha Deivam|\u0b95\u0bc8 \u0b95\u0bca\u0b9f\u0bc1\u0ba4\u0bcd\u0ba4 \u0ba4\u0bc6\u0baf\u0bcd\u0bb5\u0bae\u0bcd}    292516\n",
        "67555     {\u0baa\u0bbe\u0bb0\u0bcd\u0ba4\u0bcd\u0ba4\u0bbe\u0bb2\u0bcd \u0baa\u0b9a\u0bbf \u0ba4\u0bc0\u0bb0\u0bc1\u0bae\u0bcd|Paarthaal Pasi Theerum}    289522\n",
        "35104                                  Nann Adimai Illai    250260"
       ]
      }
     ],
     "prompt_number": 16
    },
    {
     "cell_type": "code",
     "collapsed": false,
     "input": [
      "d_sorted.tail(10)"
     ],
     "language": "python",
     "metadata": {},
     "outputs": [
      {
       "html": [
        "<div style=\"max-height:1000px;max-width:1500px;overflow:auto;\">\n",
        "<table border=\"1\" class=\"dataframe\">\n",
        "  <thead>\n",
        "    <tr style=\"text-align: right;\">\n",
        "      <th></th>\n",
        "      <th>name</th>\n",
        "      <th>runtime</th>\n",
        "    </tr>\n",
        "  </thead>\n",
        "  <tbody>\n",
        "    <tr>\n",
        "      <th>31171</th>\n",
        "      <td>                           Soldier Boy</td>\n",
        "      <td> 7.00</td>\n",
        "    </tr>\n",
        "    <tr>\n",
        "      <th>35028</th>\n",
        "      <td>                      Serpentinen Tanz</td>\n",
        "      <td> 6.00</td>\n",
        "    </tr>\n",
        "    <tr>\n",
        "      <th>34247</th>\n",
        "      <td>               Akrobatisches Potpourri</td>\n",
        "      <td> 6.00</td>\n",
        "    </tr>\n",
        "    <tr>\n",
        "      <th>43823</th>\n",
        "      <td>                            Men Boxing</td>\n",
        "      <td> 5.00</td>\n",
        "    </tr>\n",
        "    <tr>\n",
        "      <th>13804</th>\n",
        "      <td>                     Fred Ott's Sneeze</td>\n",
        "      <td> 5.00</td>\n",
        "    </tr>\n",
        "    <tr>\n",
        "      <th>1894 </th>\n",
        "      <td>            Sallie Gardner at a Gallop</td>\n",
        "      <td> 3.00</td>\n",
        "    </tr>\n",
        "    <tr>\n",
        "      <th>12510</th>\n",
        "      <td>                      Dickson Greeting</td>\n",
        "      <td> 3.00</td>\n",
        "    </tr>\n",
        "    <tr>\n",
        "      <th>2823 </th>\n",
        "      <td>                              Contract</td>\n",
        "      <td> 3.00</td>\n",
        "    </tr>\n",
        "    <tr>\n",
        "      <th>13785</th>\n",
        "      <td>                 Roundhay Garden Scene</td>\n",
        "      <td> 2.11</td>\n",
        "    </tr>\n",
        "    <tr>\n",
        "      <th>74950</th>\n",
        "      <td> Monty Python &amp; the Holy Grail in Lego</td>\n",
        "      <td> 2.00</td>\n",
        "    </tr>\n",
        "  </tbody>\n",
        "</table>\n",
        "</div>"
       ],
       "metadata": {},
       "output_type": "pyout",
       "prompt_number": 17,
       "text": [
        "                                        name  runtime\n",
        "31171                            Soldier Boy     7.00\n",
        "35028                       Serpentinen Tanz     6.00\n",
        "34247                Akrobatisches Potpourri     6.00\n",
        "43823                             Men Boxing     5.00\n",
        "13804                      Fred Ott's Sneeze     5.00\n",
        "1894              Sallie Gardner at a Gallop     3.00\n",
        "12510                       Dickson Greeting     3.00\n",
        "2823                                Contract     3.00\n",
        "13785                  Roundhay Garden Scene     2.11\n",
        "74950  Monty Python & the Holy Grail in Lego     2.00"
       ]
      }
     ],
     "prompt_number": 17
    },
    {
     "cell_type": "code",
     "collapsed": false,
     "input": [
      "def pretty_print_runtime(runtime):\n",
      "    time_units = [\n",
      "        { 'label': 'years', 'base': False },\n",
      "        { 'label': 'days', 'base': 365. },\n",
      "        { 'label': 'hours', 'base': 24. },\n",
      "        { 'label': 'minutes', 'base': 60. },\n",
      "        { 'label': 'seconds', 'base': 60. }\n",
      "    ]\n",
      "    current = time_units.pop()\n",
      "    while current['base'] and runtime >= current['base'] and time_units:\n",
      "        runtime /= current['base']\n",
      "        current = time_units.pop()\n",
      "    return runtime, current['label']"
     ],
     "language": "python",
     "metadata": {},
     "outputs": [],
     "prompt_number": 18
    },
    {
     "cell_type": "code",
     "collapsed": false,
     "input": [
      "d_sorted[\"runtime\"].map(pretty_print_runtime)"
     ],
     "language": "python",
     "metadata": {},
     "outputs": [
      {
       "metadata": {},
       "output_type": "pyout",
       "prompt_number": 19,
       "text": [
        "44829    (1.91780821918, years)\n",
        "46184             (100.0, days)\n",
        "44222              (10.0, days)\n",
        "548       (7.54166666667, days)\n",
        "51780     (3.95833333333, days)\n",
        "13151             (3.625, days)\n",
        "34297     (3.40962962963, days)\n",
        "61993     (3.38560185185, days)\n",
        "67555     (3.35094907407, days)\n",
        "35104     (2.89652777778, days)\n",
        "35384     (2.76458333333, days)\n",
        "14236     (2.22569444444, days)\n",
        "13152               (2.0, days)\n",
        "10149             (1.875, days)\n",
        "7534      (1.53542824074, days)\n",
        "...\n",
        "43271    (13.0, seconds)\n",
        "5043     (12.0, seconds)\n",
        "43304    (11.0, seconds)\n",
        "8370      (9.0, seconds)\n",
        "49970     (8.0, seconds)\n",
        "31171     (7.0, seconds)\n",
        "35028     (6.0, seconds)\n",
        "34247     (6.0, seconds)\n",
        "43823     (5.0, seconds)\n",
        "13804     (5.0, seconds)\n",
        "1894      (3.0, seconds)\n",
        "12510     (3.0, seconds)\n",
        "2823      (3.0, seconds)\n",
        "13785    (2.11, seconds)\n",
        "74950     (2.0, seconds)\n",
        "Name: runtime, Length: 54490, dtype: object"
       ]
      }
     ],
     "prompt_number": 19
    },
    {
     "cell_type": "code",
     "collapsed": false,
     "input": [
      "d_sorted[\"runtime\"]"
     ],
     "language": "python",
     "metadata": {},
     "outputs": [
      {
       "metadata": {},
       "output_type": "pyout",
       "prompt_number": 20,
       "text": [
        "44829    60480000\n",
        "46184     8640000\n",
        "44222      864000\n",
        "548        651600\n",
        "51780      342000\n",
        "13151      313200\n",
        "34297      294592\n",
        "61993      292516\n",
        "67555      289522\n",
        "35104      250260\n",
        "35384      238860\n",
        "14236      192300\n",
        "13152      172800\n",
        "10149      162000\n",
        "7534       132661\n",
        "...\n",
        "43271    13.00\n",
        "5043     12.00\n",
        "43304    11.00\n",
        "8370      9.00\n",
        "49970     8.00\n",
        "31171     7.00\n",
        "35028     6.00\n",
        "34247     6.00\n",
        "43823     5.00\n",
        "13804     5.00\n",
        "1894      3.00\n",
        "12510     3.00\n",
        "2823      3.00\n",
        "13785     2.11\n",
        "74950     2.00\n",
        "Name: runtime, Length: 54490, dtype: float64"
       ]
      }
     ],
     "prompt_number": 20
    },
    {
     "cell_type": "code",
     "collapsed": false,
     "input": [
      "plt.plot(d_sorted[\"runtime\"], \"bo\")\n",
      "plt.yscale(\"log\")\n",
      "plt.show()"
     ],
     "language": "python",
     "metadata": {},
     "outputs": [
      {
       "metadata": {},
       "output_type": "display_data",
       "png": "[encoded data removed]",
       "text": [
        "<matplotlib.figure.Figure at 0x1286da50>"
       ]
      }
     ],
     "prompt_number": 21
    },
    {
     "cell_type": "code",
     "collapsed": false,
     "input": [
      "from statsmodels.distributions.empirical_distribution import ECDF"
     ],
     "language": "python",
     "metadata": {},
     "outputs": [],
     "prompt_number": 22
    },
    {
     "cell_type": "code",
     "collapsed": false,
     "input": [
      "ecdf = ECDF(d_sorted[\"runtime\"])"
     ],
     "language": "python",
     "metadata": {},
     "outputs": [],
     "prompt_number": 23
    },
    {
     "cell_type": "code",
     "collapsed": false,
     "input": [
      "plt.plot(ecdf.x, ecdf.y)\n",
      "plt.xscale('log')"
     ],
     "language": "python",
     "metadata": {},
     "outputs": [
      {
       "metadata": {},
       "output_type": "display_data",
       "png": "[encoded data removed]",
       "text": [
        "<matplotlib.figure.Figure at 0x12e9c8b0>"
       ]
      }
     ],
     "prompt_number": 24
    },
    {
     "cell_type": "code",
     "collapsed": false,
     "input": [
      "plt.show()"
     ],
     "language": "python",
     "metadata": {},
     "outputs": [],
     "prompt_number": 25
    },
    {
     "cell_type": "code",
     "collapsed": false,
     "input": [
      "ecdf.y"
     ],
     "language": "python",
     "metadata": {},
     "outputs": [
      {
       "metadata": {},
       "output_type": "pyout",
       "prompt_number": 26,
       "text": [
        "array([  0.00000000e+00,   1.83519912e-05,   3.67039824e-05, ...,\n",
        "         9.99963296e-01,   9.99981648e-01,   1.00000000e+00])"
       ]
      }
     ],
     "prompt_number": 26
    },
    {
     "cell_type": "code",
     "collapsed": false,
     "input": [
      "len(ecdf.y)"
     ],
     "language": "python",
     "metadata": {},
     "outputs": [
      {
       "metadata": {},
       "output_type": "pyout",
       "prompt_number": 27,
       "text": [
        "54491"
       ]
      }
     ],
     "prompt_number": 27
    },
    {
     "cell_type": "code",
     "collapsed": false,
     "input": [
      "d_runtime = d_sorted[\"runtime\"]\n",
      "float(len(d_runtime[(d_runtime > 1e3) & (d_runtime < 1e4)])) / len(d_runtime)"
     ],
     "language": "python",
     "metadata": {},
     "outputs": [
      {
       "metadata": {},
       "output_type": "pyout",
       "prompt_number": 28,
       "text": [
        "0.9437511469994494"
       ]
      }
     ],
     "prompt_number": 28
    },
    {
     "cell_type": "code",
     "collapsed": false,
     "input": [
      "ecdf.x"
     ],
     "language": "python",
     "metadata": {},
     "outputs": [
      {
       "metadata": {},
       "output_type": "pyout",
       "prompt_number": 29,
       "text": [
        "array([            -inf,   2.00000000e+00,   2.11000000e+00, ...,\n",
        "         8.64000000e+05,   8.64000000e+06,   6.04800000e+07])"
       ]
      }
     ],
     "prompt_number": 29
    },
    {
     "cell_type": "code",
     "collapsed": false,
     "input": [
      "d_runtime"
     ],
     "language": "python",
     "metadata": {},
     "outputs": [
      {
       "metadata": {},
       "output_type": "pyout",
       "prompt_number": 30,
       "text": [
        "44829    60480000\n",
        "46184     8640000\n",
        "44222      864000\n",
        "548        651600\n",
        "51780      342000\n",
        "13151      313200\n",
        "34297      294592\n",
        "61993      292516\n",
        "67555      289522\n",
        "35104      250260\n",
        "35384      238860\n",
        "14236      192300\n",
        "13152      172800\n",
        "10149      162000\n",
        "7534       132661\n",
        "...\n",
        "43271    13.00\n",
        "5043     12.00\n",
        "43304    11.00\n",
        "8370      9.00\n",
        "49970     8.00\n",
        "31171     7.00\n",
        "35028     6.00\n",
        "34247     6.00\n",
        "43823     5.00\n",
        "13804     5.00\n",
        "1894      3.00\n",
        "12510     3.00\n",
        "2823      3.00\n",
        "13785     2.11\n",
        "74950     2.00\n",
        "Name: runtime, Length: 54490, dtype: float64"
       ]
      }
     ],
     "prompt_number": 30
    },
    {
     "cell_type": "code",
     "collapsed": false,
     "input": [
      "d_small = d_sorted[d_runtime < 1e4]"
     ],
     "language": "python",
     "metadata": {},
     "outputs": [],
     "prompt_number": 31
    },
    {
     "cell_type": "code",
     "collapsed": false,
     "input": [
      "len(d_runtime[d_runtime >= 1e4])"
     ],
     "language": "python",
     "metadata": {},
     "outputs": [
      {
       "metadata": {},
       "output_type": "pyout",
       "prompt_number": 32,
       "text": [
        "1534"
       ]
      }
     ],
     "prompt_number": 32
    },
    {
     "cell_type": "code",
     "collapsed": false,
     "input": [
      "plt.subplot(221)\n",
      "plt.hist(d_small[\"runtime\"], bins=10)\n",
      "plt.subplot(222)\n",
      "plt.hist(d_small[\"runtime\"], bins=50)\n",
      "plt.subplot(223)\n",
      "plt.hist(d_small[\"runtime\"], bins=100)\n",
      "plt.subplot(224)\n",
      "plt.hist(d_small[\"runtime\"], bins=150)\n",
      "plt.show()"
     ],
     "language": "python",
     "metadata": {},
     "outputs": [
      {
       "metadata": {},
       "output_type": "display_data",
       "png": "[encoded data removed]",
       "text": [
        "<matplotlib.figure.Figure at 0x12eb1e50>"
       ]
      }
     ],
     "prompt_number": 33
    },
    {
     "cell_type": "code",
     "collapsed": false,
     "input": [
      "def my_ecdf(values):\n",
      "    n = len(values)\n",
      "    \n",
      "        "
     ],
     "language": "python",
     "metadata": {},
     "outputs": [],
     "prompt_number": 34
    },
    {
     "cell_type": "code",
     "collapsed": false,
     "input": [
      "import numpy as np\n",
      "from matplotlib import pylab"
     ],
     "language": "python",
     "metadata": {},
     "outputs": [],
     "prompt_number": 35
    },
    {
     "cell_type": "code",
     "collapsed": false,
     "input": [
      "xs = np.arange(1.0, 101.0)\n",
      "ys = pylab.randn(100)"
     ],
     "language": "python",
     "metadata": {},
     "outputs": [],
     "prompt_number": 36
    },
    {
     "cell_type": "code",
     "collapsed": false,
     "input": [
      "xs\n",
      "ys"
     ],
     "language": "python",
     "metadata": {},
     "outputs": [
      {
       "metadata": {},
       "output_type": "pyout",
       "prompt_number": 37,
       "text": [
        "array([-2.30219101,  1.44360216,  0.15939351, -0.28478575, -0.05228299,\n",
        "       -0.68769637, -1.33551878,  1.82863836, -0.91509518,  0.61120039,\n",
        "        0.26659458,  0.12423729, -1.37605692,  0.59805856, -0.64112295,\n",
        "       -1.17894224, -0.54234588,  0.15486272,  0.4193363 , -0.09381119,\n",
        "       -0.74531099,  1.05620215,  0.33948855,  1.07076045, -0.96208476,\n",
        "        0.94959045,  0.23826617,  0.29923148,  0.94348734,  1.07944182,\n",
        "       -0.99861195, -1.17010578,  0.04061557,  0.6377162 , -0.71948278,\n",
        "       -0.63319472,  0.21030144,  0.95268623,  0.75512529,  0.5661168 ,\n",
        "        0.67117114,  0.42465108, -1.75591773,  1.4530853 ,  0.93613679,\n",
        "       -2.54241805,  0.76629325,  0.82530384, -0.3352002 ,  0.4870001 ,\n",
        "        0.20569362,  1.27663478,  0.12239331,  0.24205431, -0.51609568,\n",
        "       -0.17134126, -0.10450805, -0.43146491,  1.13719213, -1.29977223,\n",
        "       -0.13609271,  1.66854485, -1.62628993, -0.13064369, -0.97925322,\n",
        "       -1.23788496,  2.66586596,  0.6008345 ,  0.83529851,  0.98412691,\n",
        "        2.50051651,  0.42219947, -0.97137899,  0.63642692,  0.24196569,\n",
        "       -0.4265354 , -0.0368609 ,  1.09648699, -1.01036495,  2.0408477 ,\n",
        "       -0.91309375, -1.53918766, -0.28424684,  0.30319566,  1.54105566,\n",
        "       -0.48171918,  0.29698169,  1.10953478,  0.87808161, -0.42988419,\n",
        "        1.2703532 , -1.6341152 , -0.06067432,  0.12899288, -0.91348874,\n",
        "        0.90596963, -0.90364687, -0.70660298,  1.80749963,  0.54839287])"
       ]
      }
     ],
     "prompt_number": 37
    },
    {
     "cell_type": "code",
     "collapsed": false,
     "input": [
      "xs / 100.0"
     ],
     "language": "python",
     "metadata": {},
     "outputs": [
      {
       "metadata": {},
       "output_type": "pyout",
       "prompt_number": 38,
       "text": [
        "array([ 0.01,  0.02,  0.03,  0.04,  0.05,  0.06,  0.07,  0.08,  0.09,\n",
        "        0.1 ,  0.11,  0.12,  0.13,  0.14,  0.15,  0.16,  0.17,  0.18,\n",
        "        0.19,  0.2 ,  0.21,  0.22,  0.23,  0.24,  0.25,  0.26,  0.27,\n",
        "        0.28,  0.29,  0.3 ,  0.31,  0.32,  0.33,  0.34,  0.35,  0.36,\n",
        "        0.37,  0.38,  0.39,  0.4 ,  0.41,  0.42,  0.43,  0.44,  0.45,\n",
        "        0.46,  0.47,  0.48,  0.49,  0.5 ,  0.51,  0.52,  0.53,  0.54,\n",
        "        0.55,  0.56,  0.57,  0.58,  0.59,  0.6 ,  0.61,  0.62,  0.63,\n",
        "        0.64,  0.65,  0.66,  0.67,  0.68,  0.69,  0.7 ,  0.71,  0.72,\n",
        "        0.73,  0.74,  0.75,  0.76,  0.77,  0.78,  0.79,  0.8 ,  0.81,\n",
        "        0.82,  0.83,  0.84,  0.85,  0.86,  0.87,  0.88,  0.89,  0.9 ,\n",
        "        0.91,  0.92,  0.93,  0.94,  0.95,  0.96,  0.97,  0.98,  0.99,  1.  ])"
       ]
      }
     ],
     "prompt_number": 38
    },
    {
     "cell_type": "code",
     "collapsed": false,
     "input": [
      "ys.sort()\n",
      "plt.plot(ys, xs/100)\n",
      "plt.show()"
     ],
     "language": "python",
     "metadata": {},
     "outputs": [
      {
       "metadata": {},
       "output_type": "display_data",
       "png": "[encoded data removed]",
       "text": [
        "<matplotlib.figure.Figure at 0x12e9ca70>"
       ]
      }
     ],
     "prompt_number": 39
    },
    {
     "cell_type": "code",
     "collapsed": false,
     "input": [
      "from scipy.stats import gaussian_kde\n",
      "\n",
      "gkde = gaussian_kde(d_small[\"runtime\"])"
     ],
     "language": "python",
     "metadata": {},
     "outputs": [],
     "prompt_number": 40
    },
    {
     "cell_type": "code",
     "collapsed": false,
     "input": [
      "interval = np.linspace(0, d_small[\"runtime\"].max(), 100)"
     ],
     "language": "python",
     "metadata": {},
     "outputs": [],
     "prompt_number": 41
    },
    {
     "cell_type": "code",
     "collapsed": false,
     "input": [
      "plt.plot(interval, gkde(interval))"
     ],
     "language": "python",
     "metadata": {},
     "outputs": [
      {
       "metadata": {},
       "output_type": "pyout",
       "prompt_number": 42,
       "text": [
        "[<matplotlib.lines.Line2D at 0x13af5190>]"
       ]
      },
      {
       "metadata": {},
       "output_type": "display_data",
       "png": "[encoded data removed]",
       "text": [
        "<matplotlib.figure.Figure at 0x13a80ef0>"
       ]
      }
     ],
     "prompt_number": 42
    },
    {
     "cell_type": "code",
     "collapsed": false,
     "input": [
      "plt.show()"
     ],
     "language": "python",
     "metadata": {},
     "outputs": [],
     "prompt_number": 43
    },
    {
     "cell_type": "code",
     "collapsed": false,
     "input": [],
     "language": "python",
     "metadata": {},
     "outputs": [],
     "prompt_number": 43
    }
   ],
   "metadata": {}
  }
 ]
}