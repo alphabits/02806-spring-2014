{
 "metadata": {
  "name": ""
 },
 "nbformat": 3,
 "nbformat_minor": 0,
 "worksheets": [
  {
   "cells": [
    {
     "cell_type": "heading",
     "level": 1,
     "metadata": {},
     "source": [
      "Assignment 1"
     ]
    },
    {
     "cell_type": "heading",
     "level": 2,
     "metadata": {},
     "source": [
      "Part 1: Movie runtimes"
     ]
    },
    {
     "cell_type": "markdown",
     "metadata": {},
     "source": [
      "In this exercise a dbpedia film dataset is analyzed. The dataset contains information about approx. 80000 different films and is given in a csv-file <code>film.csv</code>. The file is saved in the same folder as this notebook and we start out by opening the file and printing the first 5 lines from the file. The <code>csv</code> library is used to open and parse the csv-file."
     ]
    },
    {
     "cell_type": "code",
     "collapsed": false,
     "input": [
      "import csv"
     ],
     "language": "python",
     "metadata": {},
     "outputs": [],
     "prompt_number": 8
    },
    {
     "cell_type": "code",
     "collapsed": false,
     "input": [
      "with open('film.csv', 'rb') as f:\n",
      "    film_csv = list(csv.reader(f.readlines()))"
     ],
     "language": "python",
     "metadata": {},
     "outputs": []
    },
    {
     "cell_type": "markdown",
     "metadata": {},
     "source": [
      "The first 5 lines of the file is printed and to keep the output simple only the first 6 columns of the file is printed"
     ]
    },
    {
     "cell_type": "code",
     "collapsed": false,
     "input": [
      "from operator import itemgetter"
     ],
     "language": "python",
     "metadata": {},
     "outputs": []
    },
    {
     "cell_type": "code",
     "collapsed": false,
     "input": [
      "get_columns = itemgetter(*range(6))\n",
      "print '\\n\\n'.join(str(get_columns(line)) for line in film_csv[:5])"
     ],
     "language": "python",
     "metadata": {},
     "outputs": [
      {
       "output_type": "stream",
       "stream": "stdout",
       "text": [
        "('URI', 'rdf-schema#label', 'rdf-schema#comment', 'basedOn_label', 'basedOn', 'budget')\n",
        "\n",
        "('URI', 'http://www.w3.org/2000/01/rdf-schema#label', 'http://www.w3.org/2000/01/rdf-schema#comment', 'http://dbpedia.org/ontology/basedOn', 'http://dbpedia.org/ontology/basedOn', 'http://dbpedia.org/ontology/budget')\n",
        "\n",
        "('URI', 'XMLSchema#string', 'XMLSchema#string', 'XMLSchema#string', 'Work', 'XMLSchema#double')\n",
        "\n",
        "('http://www.w3.org/2002/07/owl#Thing', 'http://www.w3.org/2001/XMLSchema#string', 'http://www.w3.org/2001/XMLSchema#string', 'http://www.w3.org/2001/XMLSchema#string', 'http://dbpedia.org/ontology/Work', 'http://www.w3.org/2001/XMLSchema#double')\n",
        "\n",
        "('http://dbpedia.org/resource/The_Space_Children', 'The Space Children', 'The Space Children is a 1958 film directed by Jack Arnold. The movie was featured on Mystery Science Theater 3000 in 1998 during season 9.', 'NULL', 'NULL', 'NULL')\n"
       ]
      }
     ],
     "prompt_number": 10
    },
    {
     "cell_type": "markdown",
     "metadata": {},
     "source": [
      "It is seen that the first line is the headers and the next 3 lines are various meta-data. The one line with actual movie data has some columns with the string <code>'NULL'</code>. This is probably the way missing values are encoded, and we use this knowledge later when we need to filter the dataset. \n",
      "\n",
      "To get an overview of the headers we print them all with the index included"
     ]
    },
    {
     "cell_type": "code",
     "collapsed": false,
     "input": [
      "headers, films = film_csv[0], film_csv[4:]\n",
      "\n",
      "print '\\n'.join('{0:02d} {1}'.format(index, header) for index, header in enumerate(headers))"
     ],
     "language": "python",
     "metadata": {},
     "outputs": [
      {
       "output_type": "stream",
       "stream": "stdout",
       "text": [
        "00 URI\n",
        "01 rdf-schema#label\n",
        "02 rdf-schema#comment\n",
        "03 basedOn_label\n",
        "04 basedOn\n",
        "05 budget\n",
        "06 cinematography_label\n",
        "07 cinematography\n",
        "08 country_label\n",
        "09 country\n",
        "10 director_label\n",
        "11 director\n",
        "12 distributor_label\n",
        "13 distributor\n",
        "14 editing_label\n",
        "15 editing\n",
        "16 gross\n",
        "17 imdbId\n",
        "18 language_label\n",
        "19 language\n",
        "20 musicComposer_label\n",
        "21 musicComposer\n",
        "22 narrator_label\n",
        "23 narrator\n",
        "24 producer_label\n",
        "25 producer\n",
        "26 releaseDate\n",
        "27 runtime\n",
        "28 starring_label\n",
        "29 starring\n",
        "30 thumbnail_label\n",
        "31 thumbnail\n",
        "32 writer_label\n",
        "33 writer\n",
        "34 point\n",
        "35 22-rdf-syntax-ns#type_label\n",
        "36 22-rdf-syntax-ns#type\n",
        "37 wgs84_pos#lat\n",
        "38 wgs84_pos#long\n",
        "39 depiction_label\n",
        "40 depiction\n",
        "41 homepage_label\n",
        "42 homepage\n",
        "43 name\n"
       ]
      }
     ],
     "prompt_number": 11
    },
    {
     "cell_type": "markdown",
     "metadata": {},
     "source": [
      "The csv-file has 44 different headers and in the following we are going to focus on the <code>name</code> and <code>runtime</code> columns. To easily extract specific columns from the dataset a few helper methods are defined."
     ]
    },
    {
     "cell_type": "code",
     "collapsed": false,
     "input": [
      "def get_indexes(columns):\n",
      "    return map(headers.index, columns)\n",
      "\n",
      "def get_columns(*columns):\n",
      "    return itemgetter(*get_indexes(columns))"
     ],
     "language": "python",
     "metadata": {},
     "outputs": [],
     "prompt_number": 15
    },
    {
     "cell_type": "markdown",
     "metadata": {},
     "source": [
      "Using the helpers it is easy to get name and runtime for the first 10 movies"
     ]
    },
    {
     "cell_type": "code",
     "collapsed": false,
     "input": [
      "map(get_columns(\"name\", \"runtime\"), films[:10])"
     ],
     "language": "python",
     "metadata": {},
     "outputs": [
      {
       "metadata": {},
       "output_type": "pyout",
       "prompt_number": 19,
       "text": [
        "[('The Space Children', '4140.0'),\n",
        " ('A Global Affair', '5040.0'),\n",
        " ('The Lively Set', '5700.0'),\n",
        " ('Black Eye', '5880.0'),\n",
        " ('The Wackiest Wagon Train in the West', '5160.0'),\n",
        " ('Jack of Diamonds', '6480.0'),\n",
        " ('Echoes of a Summer', '5940.0'),\n",
        " ('The Great Scout & Cathouse Thursday', '6120.0'),\n",
        " (\"Let's Fall in Love\", '4080.0'),\n",
        " ('Just My Luck', '4620.0')]"
       ]
      }
     ],
     "prompt_number": 19
    },
    {
     "cell_type": "markdown",
     "metadata": {},
     "source": [
      "Next we need to save the name and runtime for all movies into a new dataset. To do this we need to get rid of missing and invalid values and in  the process we also convert the runtimes to <code>float</code>. First a function to parse float values is defined. The function return the missing value string <code>'NULL'</code>"
     ]
    },
    {
     "cell_type": "code",
     "collapsed": false,
     "input": [
      "UNDEFINED = 'NULL'\n",
      "\n",
      "def parse_float(string):\n",
      "    try:\n",
      "        return float(string)\n",
      "    except:\n",
      "        return UNDEFINED"
     ],
     "language": "python",
     "metadata": {},
     "outputs": [],
     "prompt_number": 23
    },
    {
     "cell_type": "markdown",
     "metadata": {},
     "source": [
      "WRITE SOMETHIN CLEVER ABOUT GENERATORS!!!"
     ]
    },
    {
     "cell_type": "code",
     "collapsed": false,
     "input": [
      "getter = get_columns(\"name\", \"runtime\")\n",
      "name_and_runtime_raw = (getter(row) for row in films)\n",
      "name_and_runtime_parsed = ((name, parse_float(runtime)) for name, runtime in name_and_runtime_raw)\n",
      "\n",
      "def is_defined(row):\n",
      "    return all(col != UNDEFINED for col in row)\n",
      "\n",
      "name_and_runtime = (row for row in name_and_runtime_parsed if is_defined(row))"
     ],
     "language": "python",
     "metadata": {},
     "outputs": [],
     "prompt_number": 24
    },
    {
     "cell_type": "heading",
     "level": 2,
     "metadata": {},
     "source": [
      "Part 2: Visualization background & theory"
     ]
    },
    {
     "cell_type": "heading",
     "level": 2,
     "metadata": {},
     "source": [
      "Part 3: Timeseries"
     ]
    },
    {
     "cell_type": "heading",
     "level": 2,
     "metadata": {},
     "source": [
      "Part 4: Visualizations for the web"
     ]
    },
    {
     "cell_type": "code",
     "collapsed": false,
     "input": [],
     "language": "python",
     "metadata": {},
     "outputs": []
    }
   ],
   "metadata": {}
  }
 ]
}