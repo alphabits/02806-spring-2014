{
 "metadata": {
  "name": ""
 },
 "nbformat": 3,
 "nbformat_minor": 0,
 "worksheets": [
  {
   "cells": [
    {
     "cell_type": "code",
     "collapsed": false,
     "input": [
      "import pandas as pd\n",
      "from matplotlib import pyplot as plt\n",
      "import pymssql\n",
      "import datetime"
     ],
     "language": "python",
     "metadata": {},
     "outputs": [],
     "prompt_number": 11
    },
    {
     "cell_type": "code",
     "collapsed": false,
     "input": [
      "conn = pymssql.connect(\"37KG-PC\", \"WBDev\", \"123456\", \"WorkBox\")"
     ],
     "language": "python",
     "metadata": {},
     "outputs": [],
     "prompt_number": 4
    },
    {
     "cell_type": "code",
     "collapsed": false,
     "input": [
      "select_user_counts = \"\"\"\n",
      "    Select cast(cast(Info_CreatedAt as Date) as DateTime) as d, count(*) as cnt\n",
      "    from UserProfile\n",
      "    group by cast(Info_CreatedAt as Date)\n",
      "\"\"\"\n",
      "cursor = conn.cursor(as_dict=True)\n",
      "cursor.execute(select_user_counts)\n",
      "user_counts = [u for u in cursor]"
     ],
     "language": "python",
     "metadata": {},
     "outputs": [],
     "prompt_number": 8
    },
    {
     "cell_type": "code",
     "collapsed": false,
     "input": [
      "user_counts = [u for u in user_counts if u[\"d\"] > datetime.datetime(2000, 1, 1)]"
     ],
     "language": "python",
     "metadata": {},
     "outputs": [],
     "prompt_number": 12
    },
    {
     "cell_type": "code",
     "collapsed": false,
     "input": [
      "user_data = pd.DataFrame(user_counts).sort(\"d\")"
     ],
     "language": "python",
     "metadata": {},
     "outputs": [],
     "prompt_number": 14
    },
    {
     "cell_type": "code",
     "collapsed": false,
     "input": [
      "user_data[\"d\"]"
     ],
     "language": "python",
     "metadata": {},
     "outputs": [
      {
       "metadata": {},
       "output_type": "pyout",
       "prompt_number": 16,
       "text": [
        "184   2013-05-01 00:00:00\n",
        "11    2013-05-02 00:00:00\n",
        "135   2013-05-03 00:00:00\n",
        "208   2013-05-04 00:00:00\n",
        "34    2013-05-05 00:00:00\n",
        "142   2013-05-06 00:00:00\n",
        "233   2013-05-07 00:00:00\n",
        "23    2013-05-08 00:00:00\n",
        "130   2013-05-09 00:00:00\n",
        "241   2013-05-10 00:00:00\n",
        "45    2013-05-11 00:00:00\n",
        "150   2013-05-12 00:00:00\n",
        "215   2013-05-13 00:00:00\n",
        "38    2013-05-14 00:00:00\n",
        "161   2013-05-15 00:00:00\n",
        "...\n",
        "31    2014-01-26 00:00:00\n",
        "98    2014-01-27 00:00:00\n",
        "210   2014-01-28 00:00:00\n",
        "3     2014-01-29 00:00:00\n",
        "107   2014-01-30 00:00:00\n",
        "185   2014-01-31 00:00:00\n",
        "6     2014-02-01 00:00:00\n",
        "118   2014-02-02 00:00:00\n",
        "225   2014-02-03 00:00:00\n",
        "54    2014-02-04 00:00:00\n",
        "119   2014-02-05 00:00:00\n",
        "236   2014-02-06 00:00:00\n",
        "58    2014-02-07 00:00:00\n",
        "168   2014-02-08 00:00:00\n",
        "275   2014-02-09 00:00:00\n",
        "Name: d, Length: 285, dtype: datetime64[ns]"
       ]
      }
     ],
     "prompt_number": 16
    },
    {
     "cell_type": "code",
     "collapsed": false,
     "input": [
      "user_data.plot()\n",
      "plt.show()"
     ],
     "language": "python",
     "metadata": {},
     "outputs": [],
     "prompt_number": "*"
    },
    {
     "cell_type": "code",
     "collapsed": false,
     "input": [
      "plt.plot([1, 2, 3])"
     ],
     "language": "python",
     "metadata": {},
     "outputs": [],
     "prompt_number": "*"
    },
    {
     "cell_type": "code",
     "collapsed": false,
     "input": [],
     "language": "python",
     "metadata": {},
     "outputs": []
    }
   ],
   "metadata": {}
  }
 ]
}