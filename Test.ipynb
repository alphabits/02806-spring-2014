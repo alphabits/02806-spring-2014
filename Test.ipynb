{
 "metadata": {
  "name": ""
 },
 "nbformat": 3,
 "nbformat_minor": 0,
 "worksheets": [
  {
   "cells": [
    {
     "cell_type": "code",
     "collapsed": false,
     "input": [
      "import pandas as pd\n",
      "from matplotlib import pyplot as plt\n",
      "import pymssql\n",
      "import datetime"
     ],
     "language": "python",
     "metadata": {},
     "outputs": [],
     "prompt_number": 10
    },
    {
     "cell_type": "code",
     "collapsed": false,
     "input": [
      "conn = pymssql.connect(\"37KG-PC\", \"WBDev\", \"123456\", \"WorkBox\")"
     ],
     "language": "python",
     "metadata": {},
     "outputs": [],
     "prompt_number": 11
    },
    {
     "cell_type": "code",
     "collapsed": false,
     "input": [
      "select_user_counts = \"\"\"\n",
      "    Select cast(cast(Info_CreatedAt as Date) as DateTime) as d, count(*) as cnt\n",
      "    from UserProfile\n",
      "    group by cast(Info_CreatedAt as Date)\n",
      "\"\"\"\n",
      "cursor = conn.cursor(as_dict=True)\n",
      "cursor.execute(select_user_counts)\n",
      "user_counts = [u for u in cursor]"
     ],
     "language": "python",
     "metadata": {},
     "outputs": [],
     "prompt_number": 12
    },
    {
     "cell_type": "code",
     "collapsed": false,
     "input": [
      "user_counts = [u for u in user_counts if u[\"d\"] > datetime.datetime(2000, 1, 1)]"
     ],
     "language": "python",
     "metadata": {},
     "outputs": [],
     "prompt_number": 13
    },
    {
     "cell_type": "code",
     "collapsed": false,
     "input": [
      "user_data = pd.DataFrame(user_counts).sort(\"d\")"
     ],
     "language": "python",
     "metadata": {},
     "outputs": [],
     "prompt_number": 14
    },
    {
     "cell_type": "code",
     "collapsed": false,
     "input": [
      "user_data[\"d\"]"
     ],
     "language": "python",
     "metadata": {},
     "outputs": [
      {
       "metadata": {},
       "output_type": "pyout",
       "prompt_number": 15,
       "text": [
        "0   2014-02-10 00:00:00\n",
        "Name: d, dtype: datetime64[ns]"
       ]
      }
     ],
     "prompt_number": 15
    },
    {
     "cell_type": "code",
     "collapsed": false,
     "input": [
      "user_data.plot()\n",
      "plt.show()"
     ],
     "language": "python",
     "metadata": {},
     "outputs": [
      {
       "metadata": {},
       "output_type": "display_data",
       "png": "[encoded data removed]",
       "text": [
        "<matplotlib.figure.Figure at 0x6343750>"
       ]
      }
     ],
     "prompt_number": 16
    },
    {
     "cell_type": "code",
     "collapsed": false,
     "input": [
      "plt.plot([1, 2, 3])"
     ],
     "language": "python",
     "metadata": {},
     "outputs": [
      {
       "metadata": {},
       "output_type": "pyout",
       "prompt_number": 17,
       "text": [
        "[<matplotlib.lines.Line2D at 0x862af50>]"
       ]
      },
      {
       "metadata": {},
       "output_type": "display_data",
       "png": "[encoded data removed]",
       "text": [
        "<matplotlib.figure.Figure at 0x64b3f30>"
       ]
      }
     ],
     "prompt_number": 17
    },
    {
     "cell_type": "markdown",
     "metadata": {},
     "source": [
      "**Test**\n",
      "Markdown formatting _is_ cool\n",
      "What about latex?\n",
      "$$c = \\sqrt{a^2 + b^2}$$"
     ]
    },
    {
     "cell_type": "code",
     "collapsed": false,
     "input": [
      "a = 2\n",
      "b = 3"
     ],
     "language": "python",
     "metadata": {},
     "outputs": [],
     "prompt_number": 17
    },
    {
     "cell_type": "code",
     "collapsed": false,
     "input": [
      "c = 4"
     ],
     "language": "python",
     "metadata": {},
     "outputs": []
    },
    {
     "cell_type": "code",
     "collapsed": false,
     "input": [
      "class A(object):\n",
      "    def __repr__(self):\n",
      "        return \"class A(object)\"\n",
      "    def __str__(self):\n",
      "        return \"I'm A\"\n",
      "    \n",
      "a = A()\n",
      "\n",
      "print a\n",
      "print repr(a)"
     ],
     "language": "python",
     "metadata": {},
     "outputs": [
      {
       "output_type": "stream",
       "stream": "stdout",
       "text": [
        "I'm A\n",
        "class A(object)\n"
       ]
      }
     ],
     "prompt_number": 2
    },
    {
     "cell_type": "code",
     "collapsed": false,
     "input": [
      "import json"
     ],
     "language": "python",
     "metadata": {},
     "outputs": [],
     "prompt_number": 3
    },
    {
     "cell_type": "code",
     "collapsed": false,
     "input": [
      "data_string = \"\"\"\n",
      "{ \"array\": [ { \"key\": \"UsersCreatedDaily\", \"values\": [ { \"x\": \"2013-12-10T00:00:00\", \"y\": 88, \"series\": \"1\" }, { \"x\": \"2013-12-11T00:00:00\", \"y\": 56, \"series\": \"1\" }, { \"x\": \"2013-12-12T00:00:00\", \"y\": 57, \"series\": \"1\" }, { \"x\": \"2013-12-13T00:00:00\", \"y\": 56, \"series\": \"1\" }, { \"x\": \"2013-12-14T00:00:00\", \"y\": 20, \"series\": \"1\" }, { \"x\": \"2013-12-15T00:00:00\", \"y\": 39, \"series\": \"1\" }, { \"x\": \"2013-12-16T00:00:00\", \"y\": 109, \"series\": \"1\" }, { \"x\": \"2013-12-17T00:00:00\", \"y\": 73, \"series\": \"1\" }, { \"x\": \"2013-12-18T00:00:00\", \"y\": 133, \"series\": \"1\" }, { \"x\": \"2013-12-19T00:00:00\", \"y\": 79, \"series\": \"1\" }, { \"x\": \"2013-12-20T00:00:00\", \"y\": 40, \"series\": \"1\" }, { \"x\": \"2013-12-21T00:00:00\", \"y\": 35, \"series\": \"1\" }, { \"x\": \"2013-12-22T00:00:00\", \"y\": 49, \"series\": \"1\" }, { \"x\": \"2013-12-23T00:00:00\", \"y\": 43, \"series\": \"1\" }, { \"x\": \"2013-12-24T00:00:00\", \"y\": 45, \"series\": \"1\" }, { \"x\": \"2013-12-25T00:00:00\", \"y\": 33, \"series\": \"1\" }, { \"x\": \"2013-12-26T00:00:00\", \"y\": 50, \"series\": \"1\" }, { \"x\": \"2013-12-27T00:00:00\", \"y\": 66, \"series\": \"1\" }, { \"x\": \"2013-12-28T00:00:00\", \"y\": 60, \"series\": \"1\" }, { \"x\": \"2013-12-29T00:00:00\", \"y\": 60, \"series\": \"1\" }, { \"x\": \"2013-12-30T00:00:00\", \"y\": 57, \"series\": \"1\" }, { \"x\": \"2014-01-01T00:00:00\", \"y\": 35, \"series\": \"1\" }, { \"x\": \"2014-01-02T00:00:00\", \"y\": 132, \"series\": \"1\" }, { \"x\": \"2014-01-03T00:00:00\", \"y\": 217, \"series\": \"1\" }, { \"x\": \"2014-01-04T00:00:00\", \"y\": 133, \"series\": \"1\" }, { \"x\": \"2014-01-05T00:00:00\", \"y\": 135, \"series\": \"1\" }, { \"x\": \"2014-01-06T00:00:00\", \"y\": 140, \"series\": \"1\" }, { \"x\": \"2014-01-07T00:00:00\", \"y\": 100, \"series\": \"1\" }, { \"x\": \"2014-01-08T00:00:00\", \"y\": 139, \"series\": \"1\" }, { \"x\": \"2014-01-09T00:00:00\", \"y\": 167, \"series\": \"1\" }, { \"x\": \"2014-01-10T00:00:00\", \"y\": 102, \"series\": \"1\" }, { \"x\": \"2014-01-11T00:00:00\", \"y\": 69, \"series\": \"1\" }, { \"x\": \"2014-01-12T00:00:00\", \"y\": 115, \"series\": \"1\" }, { \"x\": \"2014-01-13T00:00:00\", \"y\": 90, \"series\": \"1\" }, { \"x\": \"2014-01-14T00:00:00\", \"y\": 129, \"series\": \"1\" }, { \"x\": \"2014-01-15T00:00:00\", \"y\": 86, \"series\": \"1\" }, { \"x\": \"2014-01-16T00:00:00\", \"y\": 94, \"series\": \"1\" }, { \"x\": \"2014-01-17T00:00:00\", \"y\": 72, \"series\": \"1\" }, { \"x\": \"2014-01-18T00:00:00\", \"y\": 52, \"series\": \"1\" }, { \"x\": \"2014-01-19T00:00:00\", \"y\": 92, \"series\": \"1\" }, { \"x\": \"2014-01-20T00:00:00\", \"y\": 102, \"series\": \"1\" }, { \"x\": \"2014-01-21T00:00:00\", \"y\": 157, \"series\": \"1\" }, { \"x\": \"2014-01-22T00:00:00\", \"y\": 75, \"series\": \"1\" }, { \"x\": \"2014-01-23T00:00:00\", \"y\": 120, \"series\": \"1\" }, { \"x\": \"2014-01-24T00:00:00\", \"y\": 61, \"series\": \"1\" }, { \"x\": \"2014-01-25T00:00:00\", \"y\": 49, \"series\": \"1\" }, { \"x\": \"2014-01-26T00:00:00\", \"y\": 74, \"series\": \"1\" }, { \"x\": \"2014-01-27T00:00:00\", \"y\": 96, \"series\": \"1\" }, { \"x\": \"2014-01-28T00:00:00\", \"y\": 103, \"series\": \"1\" }, { \"x\": \"2014-01-29T00:00:00\", \"y\": 89, \"series\": \"1\" }, { \"x\": \"2014-01-30T00:00:00\", \"y\": 100, \"series\": \"1\" }, { \"x\": \"2014-01-31T00:00:00\", \"y\": 64, \"series\": \"1\" }, { \"x\": \"2014-02-01T00:00:00\", \"y\": 64, \"series\": \"1\" }, { \"x\": \"2014-02-02T00:00:00\", \"y\": 152, \"series\": \"1\" }, { \"x\": \"2014-02-03T00:00:00\", \"y\": 109, \"series\": \"1\" }, { \"x\": \"2014-02-04T00:00:00\", \"y\": 122, \"series\": \"1\" }, { \"x\": \"2014-02-05T00:00:00\", \"y\": 110, \"series\": \"1\" }, { \"x\": \"2014-02-06T00:00:00\", \"y\": 97, \"series\": \"1\" }, { \"x\": \"2014-02-07T00:00:00\", \"y\": 87, \"series\": \"1\" }, { \"x\": \"2014-02-08T00:00:00\", \"y\": 69, \"series\": \"1\" }, { \"x\": \"2014-02-09T00:00:00\", \"y\": 103, \"series\": \"1\" }, { \"x\": \"2014-02-10T00:00:00\", \"y\": 114, \"series\": \"1\" }, { \"x\": \"2014-02-11T00:00:00\", \"y\": 78, \"series\": \"1\" } ] } ] }\n",
      "\"\"\"\n",
      "data = json.loads(data_string)"
     ],
     "language": "python",
     "metadata": {},
     "outputs": [],
     "prompt_number": 4
    },
    {
     "cell_type": "code",
     "collapsed": false,
     "input": [
      "graph_data = [v[\"y\"] for v in data[\"array\"][0][\"values\"]]"
     ],
     "language": "python",
     "metadata": {},
     "outputs": [],
     "prompt_number": 6
    },
    {
     "cell_type": "code",
     "collapsed": false,
     "input": [
      "graph_data"
     ],
     "language": "python",
     "metadata": {},
     "outputs": [
      {
       "metadata": {},
       "output_type": "pyout",
       "prompt_number": 7,
       "text": [
        "[88,\n",
        " 56,\n",
        " 57,\n",
        " 56,\n",
        " 20,\n",
        " 39,\n",
        " 109,\n",
        " 73,\n",
        " 133,\n",
        " 79,\n",
        " 40,\n",
        " 35,\n",
        " 49,\n",
        " 43,\n",
        " 45,\n",
        " 33,\n",
        " 50,\n",
        " 66,\n",
        " 60,\n",
        " 60,\n",
        " 57,\n",
        " 35,\n",
        " 132,\n",
        " 217,\n",
        " 133,\n",
        " 135,\n",
        " 140,\n",
        " 100,\n",
        " 139,\n",
        " 167,\n",
        " 102,\n",
        " 69,\n",
        " 115,\n",
        " 90,\n",
        " 129,\n",
        " 86,\n",
        " 94,\n",
        " 72,\n",
        " 52,\n",
        " 92,\n",
        " 102,\n",
        " 157,\n",
        " 75,\n",
        " 120,\n",
        " 61,\n",
        " 49,\n",
        " 74,\n",
        " 96,\n",
        " 103,\n",
        " 89,\n",
        " 100,\n",
        " 64,\n",
        " 64,\n",
        " 152,\n",
        " 109,\n",
        " 122,\n",
        " 110,\n",
        " 97,\n",
        " 87,\n",
        " 69,\n",
        " 103,\n",
        " 114,\n",
        " 78]"
       ]
      }
     ],
     "prompt_number": 7
    },
    {
     "cell_type": "code",
     "collapsed": false,
     "input": [
      "print graph_data"
     ],
     "language": "python",
     "metadata": {},
     "outputs": [
      {
       "output_type": "stream",
       "stream": "stdout",
       "text": [
        "[88, 56, 57, 56, 20, 39, 109, 73, 133, 79, 40, 35, 49, 43, 45, 33, 50, 66, 60, 60, 57, 35, 132, 217, 133, 135, 140, 100, 139, 167, 102, 69, 115, 90, 129, 86, 94, 72, 52, 92, 102, 157, 75, 120, 61, 49, 74, 96, 103, 89, 100, 64, 64, 152, 109, 122, 110, 97, 87, 69, 103, 114, 78]\n"
       ]
      }
     ],
     "prompt_number": 8
    },
    {
     "cell_type": "code",
     "collapsed": false,
     "input": [],
     "language": "python",
     "metadata": {},
     "outputs": []
    }
   ],
   "metadata": {}
  }
 ]
}