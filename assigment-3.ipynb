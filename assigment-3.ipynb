{
 "metadata": {
  "name": ""
 },
 "nbformat": 3,
 "nbformat_minor": 0,
 "worksheets": [
  {
   "cells": [
    {
     "cell_type": "heading",
     "level": 1,
     "metadata": {},
     "source": [
      "Assignment 3 - Anders H\u00f8rsted (s082382)"
     ]
    },
    {
     "cell_type": "heading",
     "level": 2,
     "metadata": {},
     "source": [
      "Part 1 - Network questions"
     ]
    },
    {
     "cell_type": "markdown",
     "metadata": {},
     "source": [
      "In this part a few questions about network theory are discussed. First question is about network components and how the discovery of America is related to this concept.\n",
      "\n",
      "A graph component is a subset of nodes in the graph for which the following holds:\n",
      "\n",
      "1. All nodes in the subset are connected by a path\n",
      "2. No larger subset of nodes exists that satisfies the first property\n",
      "\n",
      "In other words a network component is a part of the graph that is closed from other parts of the graph. If eg. we have a graph that represents people that have been at the same physical location at one time or another a single component of this graph represents all people that can possibly have infected each other with disease. The importance of network components is illustrated in <small>(Easley, Kleinberg 2010)</small> with the discovery of America. When America was discovered two large graph components was combined to one giant component and suddenly diseases from two very different population groups could spread with large consequences for the population groups.\n",
      "\n",
      "Related to the previous example many real life graphs consists of a single giant component that have a significant part of the nodes <small>(Easley, Kleinberg 2010, p. 31)</small>. This isn't surprising since in a graph containing multiple large components, a new edge will have a high probability of connecting two of the large components transforming them into a single large component."
     ]
    },
    {
     "cell_type": "heading",
     "level": 4,
     "metadata": {},
     "source": [
      "Small-world network"
     ]
    },
    {
     "cell_type": "markdown",
     "metadata": {},
     "source": [
      "As mentioned in the previous paragraph many graphs consists of a single giant component. This isn't a mathematical proof but a pattern that can be observed in many graphs. Another property that is commonly observed for specificaly social networks is what is called 'The Small-World Phenomenon' <small>(Easley, Kleinberg 2010, p. 35)</small>. Described in one sentence the small-world phenomenon can be described as the property that any two people can be connected in very few steps where six steps is often used as the number of steps. The magical number 6 originates from an experiment in the 1960's by Stanley Migram <small>(Easley, Kleinberg 2010, p. 35)</small> but have been confirmed by newer studies."
     ]
    },
    {
     "cell_type": "heading",
     "level": 4,
     "metadata": {},
     "source": [
      "Triadic Closure"
     ]
    },
    {
     "cell_type": "markdown",
     "metadata": {},
     "source": [
      "The 'Giant Component'- and 'Small-World'-Phenomenon are both static properties of graphs. Beside static properties many interesting dynamic properties of networks can be studied. One such phenomenon is the 'Triadic Closure'. The 'Triadic Closure' principle is the name of the intuitive principle that if two people $A$ and $B$ have a friend $C$ in common, then $A$ and $B$ are more likely to become friends in the future than if they didn't have any friends in common. The name 'Triadic Closure' comes from the fact that if $A$ and $B$ both have edges to $C$, then the friendship (edge) between $A$ and $B$ will close the triangle consisting of edges between $A$, $B$ and $C$."
     ]
    },
    {
     "cell_type": "heading",
     "level": 4,
     "metadata": {},
     "source": [
      "The strength of weak ties"
     ]
    },
    {
     "cell_type": "heading",
     "level": 2,
     "metadata": {},
     "source": [
      "Part 2 - Human paths vs shortest paths"
     ]
    },
    {
     "cell_type": "markdown",
     "metadata": {},
     "source": [
      "In this part we compare the shortest path between start and end nodes in the wikispeedia data set with the path lengths of humans searching for the end node. First we need to import the path data from the wikispeedia data set."
     ]
    },
    {
     "cell_type": "code",
     "collapsed": false,
     "input": [
      "from collections import defaultdict\n",
      "from itertools import izip\n",
      "from matplotlib import pyplot as plt\n",
      "import networkx as nx\n",
      "import numpy as np\n",
      "from operator import itemgetter as get\n",
      "import urllib"
     ],
     "language": "python",
     "metadata": {},
     "outputs": [],
     "prompt_number": 1
    },
    {
     "cell_type": "code",
     "collapsed": false,
     "input": [
      "def include_line(line):\n",
      "    return line.strip() and not line.startswith(\"#\")\n",
      "\n",
      "def parse_line(line):\n",
      "    return map(urllib.unquote, line.strip().split(\"\\t\"))\n",
      "\n",
      "def get_tsv_file(filepath):\n",
      "    with open(filepath, 'r') as f:\n",
      "        return (parse_line(l) for l in f.readlines() if include_line(l))  \n",
      "\n",
      "def flatten(list_of_lists):\n",
      "    return (item for lst in list_of_lists for item in lst)\n",
      "\n",
      "def parse_path(path_as_string):\n",
      "    return [page for page in path_as_string.split(';') if page != '<']\n",
      "\n",
      "def get_edges(path):\n",
      "    return zip(path[:-1], path[1:])\n",
      "\n",
      "# Helper function to easily create \n",
      "# function composition\n",
      "def o(*callables):\n",
      "    def function_aggregate(value):\n",
      "        for f in callables:\n",
      "            value = f(value)\n",
      "        return value\n",
      "    return function_aggregate"
     ],
     "language": "python",
     "metadata": {},
     "outputs": [],
     "prompt_number": 2
    },
    {
     "cell_type": "code",
     "collapsed": false,
     "input": [
      "human_paths = map(o(get(3), parse_path), get_tsv_file('data/wikispeedia/paths_finished.tsv'))"
     ],
     "language": "python",
     "metadata": {},
     "outputs": [],
     "prompt_number": 3
    },
    {
     "cell_type": "markdown",
     "metadata": {},
     "source": [
      "From the path data we need to build a directed graph of all the searches."
     ]
    },
    {
     "cell_type": "code",
     "collapsed": false,
     "input": [
      "edges = flatten(get_edges(path) for path in human_paths)\n",
      "search_graph = nx.DiGraph(edges)"
     ],
     "language": "python",
     "metadata": {},
     "outputs": [],
     "prompt_number": 4
    },
    {
     "cell_type": "markdown",
     "metadata": {},
     "source": [
      "Using this graph we can now calculate the shortest path between start and end nodes of the search paths"
     ]
    },
    {
     "cell_type": "code",
     "collapsed": false,
     "input": [
      "def computer_path(graph, path):\n",
      "    return nx.shortest_path(graph, source=path[0], target=path[-1])"
     ],
     "language": "python",
     "metadata": {},
     "outputs": [],
     "prompt_number": 5
    },
    {
     "cell_type": "code",
     "collapsed": false,
     "input": [
      "computer_paths = [computer_path(search_graph, path) for path in human_paths]"
     ],
     "language": "python",
     "metadata": {},
     "outputs": [],
     "prompt_number": 6
    },
    {
     "cell_type": "markdown",
     "metadata": {},
     "source": [
      "Finally we can create a dataset of lengths of human- and computer-paths"
     ]
    },
    {
     "cell_type": "code",
     "collapsed": false,
     "input": [
      "path_lengths = [(len(human_path), len(computer_path)) for human_path, computer_path in zip(human_paths, computer_paths)]"
     ],
     "language": "python",
     "metadata": {},
     "outputs": [],
     "prompt_number": 7
    },
    {
     "cell_type": "markdown",
     "metadata": {},
     "source": [
      "Before plotting a histogram for the human path length a CDF is plotted to see what interval most of the path lengths belongs to."
     ]
    },
    {
     "cell_type": "code",
     "collapsed": false,
     "input": [
      "from statsmodels.distributions.empirical_distribution import ECDF\n",
      "ecdf = ECDF(map(get(0), path_lengths))\n",
      "plt.xscale(\"log\")\n",
      "plt.ylim([-.1, 1.1])\n",
      "plt.xlabel(\"Human path length\")\n",
      "plt.ylabel(\"Cumulative probability\")\n",
      "plt.title(\"Plot of CDF for human path lengths\")\n",
      "plt.gcf().set_size_inches(10, 5)\n",
      "_ = plt.plot(ecdf.x, ecdf.y, linewidth=2)"
     ],
     "language": "python",
     "metadata": {},
     "outputs": [
      {
       "metadata": {},
       "output_type": "display_data",
       "png": "[encoded data removed]",
       "text": [
        "<matplotlib.figure.Figure at 0x8db5990>"
       ]
      }
     ],
     "prompt_number": 11
    },
    {
     "cell_type": "markdown",
     "metadata": {},
     "source": [
      "From the CDF of the data it is seen that most of the path lengths are less than 30 pages long. Anything larger than this is considered to be an extreme case and is excluded from the histogram plot"
     ]
    },
    {
     "cell_type": "code",
     "collapsed": false,
     "input": [
      "filtered_path_lengths = filter(lambda ls: ls[0] < 30, path_lengths)"
     ],
     "language": "python",
     "metadata": {},
     "outputs": [],
     "prompt_number": 25
    },
    {
     "cell_type": "code",
     "collapsed": false,
     "input": [
      "labels = ['human', 'computer']\n",
      "bins = [20, 6]\n",
      "fig, subplots = plt.subplots(1, 2)\n",
      "fig.set_size_inches(17, 5)\n",
      "\n",
      "for i, (subplot, label, num_bins) in enumerate(zip(subplots, labels, bins)):\n",
      "    hist_data = map(get(i), filtered_path_lengths)\n",
      "    subplot.set_xlabel('Path length')\n",
      "    subplot.set_ylabel('Number of paths')\n",
      "    subplot.set_title('Histogram of {0} path lengths. Average: {1:.2f}'.format(label, np.mean(hist_data)))\n",
      "    subplot.hist(hist_data, bins=num_bins)"
     ],
     "language": "python",
     "metadata": {},
     "outputs": [
      {
       "metadata": {},
       "output_type": "display_data",
       "png": "[encoded data removed]",
       "text": [
        "<matplotlib.figure.Figure at 0x9394170>"
       ]
      }
     ],
     "prompt_number": 26
    },
    {
     "cell_type": "markdown",
     "metadata": {},
     "source": [
      "It is seen in the histograms that the computer path lengths are all between 1 and 7 compared with the human path lengths that was filtered to only included lengths between 1 and 30. The max computer path length of 7 confirms the small-world phenomenon explained in the previous exercise even though this isn't a social network but a network of webpages. It is also seen that the human path lengths, on average are 6.28 compared with 3.88 for the computer path lengths. To get a better understanding of how the computer path length and human path length correlates a scatter plot could be used. But since both the computer and human path lengths can only be from a small finite set of values the scatter plot can be hard to read. Instead a plot of the average computer path length for each different human path length is plotted"
     ]
    },
    {
     "cell_type": "code",
     "collapsed": false,
     "input": [
      "def average_computer_length(human_path_length):\n",
      "    return np.mean(map(get(1), filter(lambda ls: ls[0] == human_path_length, filtered_path_lengths)))"
     ],
     "language": "python",
     "metadata": {},
     "outputs": [],
     "prompt_number": 36
    },
    {
     "cell_type": "code",
     "collapsed": false,
     "input": [
      "average_computer_lengths = map(average_computer_length, range(1, 30))"
     ],
     "language": "python",
     "metadata": {},
     "outputs": [],
     "prompt_number": 37
    },
    {
     "cell_type": "code",
     "collapsed": false,
     "input": [
      "plt.xlabel('Human path length')\n",
      "plt.ylabel('Average computer path length')\n",
      "plt.title('Average computer path length for different human path lengths')\n",
      "plt.gcf().set_size_inches(10, 5)\n",
      "_ = plt.plot(range(1, 30), average_computer_lengths, 'o')"
     ],
     "language": "python",
     "metadata": {},
     "outputs": [
      {
       "metadata": {},
       "output_type": "display_data",
       "png": "[encoded data removed]",
       "text": [
        "<matplotlib.figure.Figure at 0x939e0b0>"
       ]
      }
     ],
     "prompt_number": 39
    },
    {
     "cell_type": "markdown",
     "metadata": {},
     "source": [
      "A few thing can be seen from the plot. First it is worth noticing the obvious fact that the computer path length by definition must less than or equal to the human path length. For human path lengths of 1 and 2 the computer average length is equal to the human path length. For large path lengths the human path length and computer average length diverges and the average computer length is seen to more or less settle on an average a little above 4.0 for human path lengths above 10. In a way this is another way to show the small-world property of the wikispeedia data set. If you play the wikispeedia game and exceeds 7 pages you can be pretty confident that you are not using the optimal path through the pages."
     ]
    },
    {
     "cell_type": "heading",
     "level": 2,
     "metadata": {},
     "source": [
      "Part 3 - Growing networks"
     ]
    },
    {
     "cell_type": "markdown",
     "metadata": {},
     "source": [
      "In this part we are going to look various properties of the wikispeedia graph and how these properties changes when more and more search data is added. More specific we are going to add the human search data in batches of 5000 rows and for each batch calculate the number of nodes, number of links, top 5 visited nodes, top 5 in-/out-degree nodes, and top 5 most traversed links."
     ]
    },
    {
     "cell_type": "code",
     "collapsed": false,
     "input": [
      "weight_count_key = 'weight'\n",
      "visit_count_key = '__visits__'\n",
      "\n",
      "def increment_weight(edge_attributes):\n",
      "    if not edge_attributes.has_key(weight_count_key):\n",
      "        edge_attributes[weight_count_key] = 0\n",
      "    edge_attributes[weight_count_key] += 1\n",
      "    \n",
      "def has_edge(graph, in_node, out_node):\n",
      "    return graph.edge.has_key(in_node) and graph.edge[in_node].has_key(out_node)\n",
      "\n",
      "def add_edge(graph, in_node, out_node):\n",
      "    if not has_edge(graph, in_node, out_node):\n",
      "        graph.add_edge(in_node, out_node)\n",
      "    increment_weight(graph.edge[in_node][out_node])\n",
      "    \n",
      "def add_edges(graph, edges):\n",
      "    for edge in edges:\n",
      "        add_edge(graph, *edge)\n",
      "        \n",
      "def add_visit(graph, node):\n",
      "    if not graph.node[node].has_key(visit_count_key):\n",
      "        graph.node[node][visit_count_key] = 0\n",
      "    graph.node[node][visit_count_key] += 1\n",
      "        \n",
      "def add_visits(graph, path):\n",
      "    for node in path:\n",
      "        add_visit(graph, node)\n",
      "        \n",
      "def add_path(graph, path):\n",
      "    add_edges(graph, get_edges(path))\n",
      "    add_visits(graph, path)\n",
      "    \n",
      "def get_top_items(items, num_to_return=5):\n",
      "    return sorted(items, key=get(1), reverse=True)[:num_to_return]\n",
      "    \n",
      "def get_graph_statistics(graph):\n",
      "    stats = {}\n",
      "    stats['num_nodes'] = graph.number_of_nodes()\n",
      "    stats['num_links'] = graph.number_of_edges()\n",
      "    stats['node_visits'] = get_top_items(get_node_visit_counts(graph))\n",
      "    stats['in_degrees'] = get_top_items(get_in_degrees(graph))\n",
      "    stats['out_degrees'] = get_top_items(get_out_degrees(graph))\n",
      "    stats['edges'] = get_top_items(get_edge_counts(graph))\n",
      "    stats['betweeness'] = get_top_items(nx.betweenness_centrality(graph, k=100))\n",
      "    return stats\n",
      "\n",
      "def get_node_visit_counts(graph):\n",
      "    return ((node, graph.node[node][visit_count_key]) for node in graph.nodes_iter())\n",
      "\n",
      "def get_in_degrees(graph):\n",
      "    return ((node, graph.in_degree(node)) for node in graph.nodes_iter())\n",
      "\n",
      "def get_out_degrees(graph):\n",
      "    return ((node, graph.out_degree(node)) for node in graph.nodes_iter())\n",
      "\n",
      "def get_edge_counts(graph):\n",
      "    return (((in_node, out_node), d['weight']) for in_node, out_node, d in graph.edges(data=True))"
     ],
     "language": "python",
     "metadata": {},
     "outputs": [],
     "prompt_number": 261
    },
    {
     "cell_type": "code",
     "collapsed": false,
     "input": [
      "def get_graph_from_path_data(path_data):\n",
      "    graph = nx.DiGraph()\n",
      "    for path in path_data:\n",
      "        add_path(graph, path)\n",
      "    return graph"
     ],
     "language": "python",
     "metadata": {},
     "outputs": [],
     "prompt_number": 259
    },
    {
     "cell_type": "code",
     "collapsed": false,
     "input": [
      "path_graph = get_graph_from_path_data(human_paths)"
     ],
     "language": "python",
     "metadata": {},
     "outputs": [],
     "prompt_number": 240
    },
    {
     "cell_type": "code",
     "collapsed": false,
     "input": [
      "get_graph_statistics(path_graph)"
     ],
     "language": "python",
     "metadata": {},
     "outputs": [
      {
       "metadata": {},
       "output_type": "pyout",
       "prompt_number": 262,
       "text": [
        "{'betweeness': ['K\\xc4\\xablauea',\n",
        "  \"C\\xc3\\xb4te_d'Ivoire\",\n",
        "  'S\\xc3\\xa3o_Tom\\xc3\\xa9_and_Pr\\xc3\\xadncipe',\n",
        "  'Z\\xc3\\xbcrich',\n",
        "  'R\\xc3\\xa9union'],\n",
        " 'edges': [(('Communication', 'Telephone'), 533),\n",
        "  (('North_America', 'United_States'), 508),\n",
        "  (('Animal', 'Mammal'), 493),\n",
        "  (('Europe', 'United_Kingdom'), 473),\n",
        "  (('Lion', 'Zebra'), 472)],\n",
        " 'in_degrees': [('United_States', 1318),\n",
        "  ('Europe', 722),\n",
        "  ('United_Kingdom', 676),\n",
        "  ('England', 584),\n",
        "  ('World_War_II', 521)],\n",
        " 'node_visits': [('United_States', 8896),\n",
        "  ('Europe', 4362),\n",
        "  ('United_Kingdom', 3904),\n",
        "  ('England', 3332),\n",
        "  ('Earth', 3223)],\n",
        " 'num_links': 60185,\n",
        " 'num_nodes': 4169,\n",
        " 'out_degrees': [('United_States', 305),\n",
        "  ('England', 213),\n",
        "  ('United_Kingdom', 206),\n",
        "  ('Africa', 202),\n",
        "  ('Europe', 179)]}"
       ]
      }
     ],
     "prompt_number": 262
    },
    {
     "cell_type": "code",
     "collapsed": false,
     "input": [
      "path_graph['United_States']['North_America']"
     ],
     "language": "python",
     "metadata": {},
     "outputs": [
      {
       "metadata": {},
       "output_type": "pyout",
       "prompt_number": 257,
       "text": [
        "{'weight': 360}"
       ]
      }
     ],
     "prompt_number": 257
    },
    {
     "cell_type": "code",
     "collapsed": false,
     "input": [],
     "language": "python",
     "metadata": {},
     "outputs": [],
     "prompt_number": 80
    },
    {
     "cell_type": "code",
     "collapsed": false,
     "input": [],
     "language": "python",
     "metadata": {},
     "outputs": [],
     "prompt_number": 90
    },
    {
     "cell_type": "code",
     "collapsed": false,
     "input": [],
     "language": "python",
     "metadata": {},
     "outputs": [],
     "prompt_number": 81
    },
    {
     "cell_type": "code",
     "collapsed": false,
     "input": [],
     "language": "python",
     "metadata": {},
     "outputs": [],
     "prompt_number": 82
    },
    {
     "cell_type": "code",
     "collapsed": false,
     "input": [],
     "language": "python",
     "metadata": {},
     "outputs": [
      {
       "metadata": {},
       "output_type": "pyout",
       "prompt_number": 83,
       "text": [
        "[<matplotlib.lines.Line2D at 0xa347710>]"
       ]
      },
      {
       "metadata": {},
       "output_type": "display_data",
       "png": "[encoded data removed]",
       "text": [
        "<matplotlib.figure.Figure at 0x8959110>"
       ]
      }
     ],
     "prompt_number": 83
    },
    {
     "cell_type": "code",
     "collapsed": false,
     "input": [
      "plt.hist([l[1] for l in path_lengths], bins=range(0,10))"
     ],
     "language": "python",
     "metadata": {},
     "outputs": [
      {
       "metadata": {},
       "output_type": "pyout",
       "prompt_number": 84,
       "text": [
        "(array([  0.00000000e+00,   1.10000000e+01,   1.16500000e+03,\n",
        "         1.17110000e+04,   3.09980000e+04,   7.01400000e+03,\n",
        "         4.08000000e+02,   1.10000000e+01,   0.00000000e+00]),\n",
        " array([0, 1, 2, 3, 4, 5, 6, 7, 8, 9]),\n",
        " <a list of 9 Patch objects>)"
       ]
      },
      {
       "metadata": {},
       "output_type": "display_data",
       "png": "[encoded data removed]",
       "text": [
        "<matplotlib.figure.Figure at 0x5f85730>"
       ]
      }
     ],
     "prompt_number": 84
    },
    {
     "cell_type": "code",
     "collapsed": false,
     "input": [],
     "language": "python",
     "metadata": {},
     "outputs": [
      {
       "metadata": {},
       "output_type": "display_data",
       "png": "[encoded data removed]",
       "text": [
        "<matplotlib.figure.Figure at 0x80ee7b0>"
       ]
      }
     ],
     "prompt_number": 92
    },
    {
     "cell_type": "code",
     "collapsed": false,
     "input": [
      "path_graph.out_degree(path_graph.nodes()[0])"
     ],
     "language": "python",
     "metadata": {},
     "outputs": [
      {
       "metadata": {},
       "output_type": "pyout",
       "prompt_number": 94,
       "text": [
        "5"
       ]
      }
     ],
     "prompt_number": 94
    },
    {
     "cell_type": "code",
     "collapsed": false,
     "input": [
      "path_graph.add_weighted_edges_from([('Australia', 'Canada', 2)])"
     ],
     "language": "python",
     "metadata": {},
     "outputs": [],
     "prompt_number": 104
    },
    {
     "cell_type": "code",
     "collapsed": false,
     "input": [
      "path_graph.in_degree('Australia', weight=True)"
     ],
     "language": "python",
     "metadata": {},
     "outputs": [
      {
       "metadata": {},
       "output_type": "pyout",
       "prompt_number": 109,
       "text": [
        "266"
       ]
      }
     ],
     "prompt_number": 109
    },
    {
     "cell_type": "code",
     "collapsed": false,
     "input": [
      "path_graph.edges"
     ],
     "language": "python",
     "metadata": {},
     "outputs": [
      {
       "metadata": {},
       "output_type": "pyout",
       "prompt_number": 74,
       "text": [
        "3.4081219065435131"
       ]
      }
     ],
     "prompt_number": 74
    },
    {
     "cell_type": "code",
     "collapsed": false,
     "input": [
      "dg = nx.DiGraph()"
     ],
     "language": "python",
     "metadata": {},
     "outputs": [],
     "prompt_number": 153
    },
    {
     "cell_type": "code",
     "collapsed": false,
     "input": [
      "dg.add_edge(1, 4, weight=0.2)"
     ],
     "language": "python",
     "metadata": {},
     "outputs": [],
     "prompt_number": 156
    },
    {
     "cell_type": "code",
     "collapsed": false,
     "input": [
      "dg.out_degree(1,weight='weight')"
     ],
     "language": "python",
     "metadata": {},
     "outputs": [
      {
       "metadata": {},
       "output_type": "pyout",
       "prompt_number": 163,
       "text": [
        "0.5"
       ]
      }
     ],
     "prompt_number": 163
    },
    {
     "cell_type": "code",
     "collapsed": false,
     "input": [
      "dg.edges()"
     ],
     "language": "python",
     "metadata": {},
     "outputs": [
      {
       "metadata": {},
       "output_type": "pyout",
       "prompt_number": 126,
       "text": [
        "[(1, 4), (3, 1)]"
       ]
      }
     ],
     "prompt_number": 126
    },
    {
     "cell_type": "code",
     "collapsed": false,
     "input": [
      "dg.edge[1][4]"
     ],
     "language": "python",
     "metadata": {},
     "outputs": [
      {
       "metadata": {},
       "output_type": "pyout",
       "prompt_number": 139,
       "text": [
        "{'weight': 0.75}"
       ]
      }
     ],
     "prompt_number": 139
    },
    {
     "cell_type": "code",
     "collapsed": false,
     "input": [
      "for i, o in dg.edges():\n",
      "    print dg.edge[i][o]"
     ],
     "language": "python",
     "metadata": {},
     "outputs": [
      {
       "output_type": "stream",
       "stream": "stdout",
       "text": [
        "{'weight': 0.5}\n",
        "{'weight': 0.75}\n"
       ]
      }
     ],
     "prompt_number": 128
    },
    {
     "cell_type": "code",
     "collapsed": false,
     "input": [
      "dg.edge.has_key(122)"
     ],
     "language": "python",
     "metadata": {},
     "outputs": [
      {
       "metadata": {},
       "output_type": "pyout",
       "prompt_number": 145,
       "text": [
        "False"
       ]
      }
     ],
     "prompt_number": 145
    },
    {
     "cell_type": "code",
     "collapsed": false,
     "input": [
      "has_edge(dg, 2, 4)"
     ],
     "language": "python",
     "metadata": {},
     "outputs": [
      {
       "metadata": {},
       "output_type": "pyout",
       "prompt_number": 152,
       "text": [
        "False"
       ]
      }
     ],
     "prompt_number": 152
    },
    {
     "cell_type": "code",
     "collapsed": false,
     "input": [
      "attrs = dg.edge[1][4]"
     ],
     "language": "python",
     "metadata": {},
     "outputs": [],
     "prompt_number": 158
    },
    {
     "cell_type": "code",
     "collapsed": false,
     "input": [
      "attrs"
     ],
     "language": "python",
     "metadata": {},
     "outputs": [
      {
       "metadata": {},
       "output_type": "pyout",
       "prompt_number": 159,
       "text": [
        "{'weight': 0.2}"
       ]
      }
     ],
     "prompt_number": 159
    },
    {
     "cell_type": "code",
     "collapsed": false,
     "input": [
      "attrs['weight'] = 0.5"
     ],
     "language": "python",
     "metadata": {},
     "outputs": [],
     "prompt_number": 160
    },
    {
     "cell_type": "code",
     "collapsed": false,
     "input": [
      "dg.edge[1][4]"
     ],
     "language": "python",
     "metadata": {},
     "outputs": [
      {
       "metadata": {},
       "output_type": "pyout",
       "prompt_number": 161,
       "text": [
        "{'weight': 0.5}"
       ]
      }
     ],
     "prompt_number": 161
    },
    {
     "cell_type": "code",
     "collapsed": false,
     "input": [
      "dg.edges()"
     ],
     "language": "python",
     "metadata": {},
     "outputs": [
      {
       "metadata": {},
       "output_type": "pyout",
       "prompt_number": 162,
       "text": [
        "[(1, 4)]"
       ]
      }
     ],
     "prompt_number": 162
    },
    {
     "cell_type": "code",
     "collapsed": false,
     "input": [
      "attrs['te']"
     ],
     "language": "python",
     "metadata": {},
     "outputs": [
      {
       "ename": "KeyError",
       "evalue": "'te'",
       "output_type": "pyerr",
       "traceback": [
        "\u001b[1;31m---------------------------------------------------------------------------\u001b[0m\n\u001b[1;31mKeyError\u001b[0m                                  Traceback (most recent call last)",
        "\u001b[1;32m<ipython-input-165-f4c93352a461>\u001b[0m in \u001b[0;36m<module>\u001b[1;34m()\u001b[0m\n\u001b[1;32m----> 1\u001b[1;33m \u001b[0mattrs\u001b[0m\u001b[1;33m[\u001b[0m\u001b[1;34m'te'\u001b[0m\u001b[1;33m]\u001b[0m\u001b[1;33m\u001b[0m\u001b[0m\n\u001b[0m",
        "\u001b[1;31mKeyError\u001b[0m: 'te'"
       ]
      }
     ],
     "prompt_number": 165
    },
    {
     "cell_type": "code",
     "collapsed": false,
     "input": [],
     "language": "python",
     "metadata": {},
     "outputs": []
    },
    {
     "cell_type": "heading",
     "level": 1,
     "metadata": {},
     "source": [
      "References"
     ]
    },
    {
     "cell_type": "markdown",
     "metadata": {},
     "source": [
      "Easley and Kleinberg. (2010) - <em>Networks, Crowds, and Markets</em> - Cambridge University Press"
     ]
    },
    {
     "cell_type": "code",
     "collapsed": false,
     "input": [],
     "language": "python",
     "metadata": {},
     "outputs": []
    }
   ],
   "metadata": {}
  }
 ]
}