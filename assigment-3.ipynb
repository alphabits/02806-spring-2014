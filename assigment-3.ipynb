{
 "metadata": {
  "name": ""
 },
 "nbformat": 3,
 "nbformat_minor": 0,
 "worksheets": [
  {
   "cells": [
    {
     "cell_type": "heading",
     "level": 1,
     "metadata": {},
     "source": [
      "Assignment 3 - Anders H\u00f8rsted (s082382)"
     ]
    },
    {
     "cell_type": "heading",
     "level": 2,
     "metadata": {},
     "source": [
      "Part 1 - Network questions"
     ]
    },
    {
     "cell_type": "heading",
     "level": 2,
     "metadata": {},
     "source": [
      "Part 2 - Human paths vs shortest paths"
     ]
    },
    {
     "cell_type": "heading",
     "level": 2,
     "metadata": {},
     "source": [
      "Part 3 - Growing networks"
     ]
    },
    {
     "cell_type": "code",
     "collapsed": false,
     "input": [
      "from collections import defaultdict\n",
      "from itertools import izip\n",
      "from matplotlib import pyplot as plt\n",
      "import networkx as nx\n",
      "import numpy as np\n",
      "from operator import itemgetter as get\n",
      "import urllib"
     ],
     "language": "python",
     "metadata": {},
     "outputs": [],
     "prompt_number": 196
    },
    {
     "cell_type": "code",
     "collapsed": false,
     "input": [
      "def include_line(line):\n",
      "    return line.strip() and not line.startswith(\"#\")\n",
      "\n",
      "def parse_line(line):\n",
      "    return map(urllib.unquote, line.strip().split(\"\\t\"))\n",
      "\n",
      "def get_tsv_file(filepath):\n",
      "    with open(filepath, 'r') as f:\n",
      "        return (parse_line(l) for l in f.readlines() if include_line(l))  \n",
      "\n",
      "def flatten(list_of_lists):\n",
      "    return (item for lst in list_of_lists for item in lst)\n",
      "\n",
      "def parse_path(path_as_string):\n",
      "    return [page for page in path_as_string.split(';') if page != '<']\n",
      "\n",
      "def get_edges(path):\n",
      "    return zip(path[:-1], path[1:])\n",
      "\n",
      "def has_edge(graph, in_node, out_node):\n",
      "    return graph.edge.has_key(in_node) and graph.edge[in_node].has_key(out_node)\n",
      "\n",
      "# Helper function to easily create \n",
      "# function composition\n",
      "def o(*callables):\n",
      "    def function_aggregate(value):\n",
      "        for f in callables:\n",
      "            value = f(value)\n",
      "        return value\n",
      "    return function_aggregate"
     ],
     "language": "python",
     "metadata": {},
     "outputs": [],
     "prompt_number": 197
    },
    {
     "cell_type": "code",
     "collapsed": false,
     "input": [
      "human_paths = map(o(get(3), parse_path), get_tsv_file('data/wikispeedia/paths_finished.tsv'))"
     ],
     "language": "python",
     "metadata": {},
     "outputs": [],
     "prompt_number": 198
    },
    {
     "cell_type": "code",
     "collapsed": false,
     "input": [
      "weight_count_key = 'weight'\n",
      "visit_count_key = '__visits__'\n",
      "\n",
      "def increment_weight(edge_attributes):\n",
      "    if not edge_attributes.has_key(weight_count_key):\n",
      "        edge_attributes[weight_count_key] = 0\n",
      "    edge_attributes[weight_count_key] += 1\n",
      "\n",
      "def add_edge(graph, in_node, out_node):\n",
      "    if not has_edge(graph, in_node, out_node):\n",
      "        graph.add_edge(in_node, out_node)\n",
      "    increment_weight(graph.edge[in_node][out_node])\n",
      "    \n",
      "def add_edges(graph, edges):\n",
      "    for edge in edges:\n",
      "        add_edge(graph, *edge)\n",
      "        \n",
      "def add_visit(graph, node):\n",
      "    if not graph[node].has_key(visit_count_key):\n",
      "        graph[node][visit_count_key] = 0\n",
      "    graph[node][visit_count_key] += 1\n",
      "        \n",
      "def add_visits(graph, path):\n",
      "    for node in path:\n",
      "        add_visit(graph, node)\n",
      "        \n",
      "def add_path(graph, path):\n",
      "    add_edges(graph, get_edges(path))\n",
      "    add_visits(graph, path)"
     ],
     "language": "python",
     "metadata": {},
     "outputs": [],
     "prompt_number": 199
    },
    {
     "cell_type": "code",
     "collapsed": false,
     "input": [
      "def get_graph_from_path_data(path_data):\n",
      "    graph = nx.DiGraph()\n",
      "    for path in path_data:\n",
      "        add_path(graph, path)\n",
      "    return graph"
     ],
     "language": "python",
     "metadata": {},
     "outputs": [],
     "prompt_number": 202
    },
    {
     "cell_type": "code",
     "collapsed": false,
     "input": [
      "path_graph = get_graph_from_path_data(human_paths)"
     ],
     "language": "python",
     "metadata": {},
     "outputs": [],
     "prompt_number": 203
    },
    {
     "cell_type": "code",
     "collapsed": false,
     "input": [
      "path_graph.edge['Canada']"
     ],
     "language": "python",
     "metadata": {},
     "outputs": [
      {
       "metadata": {},
       "output_type": "pyout",
       "prompt_number": 205,
       "text": [
        "{'17th_century': {'weight': 5},\n",
        " 'Afghanistan': {'weight': 5},\n",
        " 'Arctic': {'weight': 15},\n",
        " 'Arctic_Ocean': {'weight': 23},\n",
        " 'Argentina': {'weight': 1},\n",
        " 'Atlantic_Ocean': {'weight': 18},\n",
        " 'Bald_Eagle': {'weight': 1},\n",
        " 'Baseball': {'weight': 2},\n",
        " 'Basketball': {'weight': 2},\n",
        " 'Beaver': {'weight': 27},\n",
        " 'British_Virgin_Islands': {'weight': 1},\n",
        " 'California': {'weight': 1},\n",
        " 'Canada': {'weight': 4},\n",
        " 'Canadian_Charter_of_Rights_and_Freedoms': {'weight': 12},\n",
        " 'Canadian_English': {'weight': 15},\n",
        " 'Canadian_House_of_Commons': {'weight': 12},\n",
        " 'Canadian_Pacific_Railway': {'weight': 19},\n",
        " 'Canadian_Senate': {'weight': 8},\n",
        " 'Canadian_football': {'weight': 22},\n",
        " 'Capitalism': {'weight': 2},\n",
        " 'Cell_(biology)': {'weight': 1},\n",
        " 'Chinese_language': {'weight': 5},\n",
        " 'Christianity': {'weight': 6},\n",
        " 'Cold_War': {'weight': 1},\n",
        " 'Constitutional_monarchy': {'weight': 3},\n",
        " 'Country': {'weight': 1},\n",
        " 'Currency': {'weight': 1},\n",
        " 'Edinburgh': {'weight': 1},\n",
        " 'Elizabeth_II_of_the_United_Kingdom': {'weight': 12},\n",
        " 'England': {'weight': 1},\n",
        " 'English_language': {'weight': 24},\n",
        " 'France': {'weight': 5},\n",
        " 'French_language': {'weight': 5},\n",
        " 'German_language': {'weight': 3},\n",
        " 'Great_Lakes': {'weight': 36},\n",
        " 'Hudson_Bay': {'weight': 14},\n",
        " 'Hurricane_Katrina': {'weight': 1},\n",
        " 'Ice_hockey': {'weight': 17},\n",
        " 'India': {'weight': 1},\n",
        " 'Irish_people': {'weight': 2},\n",
        " 'Islam': {'weight': 4},\n",
        " 'Jacques_Cartier': {'weight': 4},\n",
        " 'John_Cabot': {'weight': 2},\n",
        " 'Latin': {'weight': 1},\n",
        " 'Law': {'weight': 1},\n",
        " 'League_of_Nations': {'weight': 4},\n",
        " 'List_of_countries_by_system_of_government': {'weight': 4},\n",
        " 'Mississippi_River': {'weight': 7},\n",
        " 'Montreal': {'weight': 34},\n",
        " 'Multiculturalism': {'weight': 10},\n",
        " 'NATO': {'weight': 3},\n",
        " 'National_Hockey_League': {'weight': 19},\n",
        " 'New_York_City': {'weight': 1},\n",
        " 'Niagara_Falls': {'weight': 15},\n",
        " 'North_America': {'weight': 67},\n",
        " 'Ottawa': {'weight': 24},\n",
        " 'Pacific_Ocean': {'weight': 8},\n",
        " 'Parliament_of_Canada': {'weight': 11},\n",
        " 'Parliamentary_system': {'weight': 13},\n",
        " 'Petroleum': {'weight': 10},\n",
        " 'RMS_Titanic': {'weight': 1},\n",
        " 'River': {'weight': 1},\n",
        " 'Rocky_Mountains': {'weight': 13},\n",
        " 'Russia': {'weight': 3},\n",
        " 'Saudi_Arabia': {'weight': 5},\n",
        " 'Second_Boer_War': {'weight': 2},\n",
        " 'Sequoia': {'weight': 1},\n",
        " 'Skiing': {'weight': 2},\n",
        " 'Stephen_Harper': {'weight': 13},\n",
        " 'The_Wall_Street_Journal': {'weight': 4},\n",
        " 'Tide': {'weight': 1},\n",
        " 'Time_zone': {'weight': 1},\n",
        " 'Toronto': {'weight': 18},\n",
        " 'Tuna': {'weight': 1},\n",
        " 'U.S._state': {'weight': 1},\n",
        " 'United_Kingdom': {'weight': 48},\n",
        " 'United_States': {'weight': 87},\n",
        " 'University': {'weight': 1},\n",
        " 'Vancouver': {'weight': 39},\n",
        " 'Vietnam_War': {'weight': 3},\n",
        " 'Viking': {'weight': 24},\n",
        " 'Volleyball': {'weight': 1},\n",
        " '__visits__': 922}"
       ]
      }
     ],
     "prompt_number": 205
    },
    {
     "cell_type": "code",
     "collapsed": false,
     "input": [
      "def computer_path(human_path):\n",
      "    return nx.shortest_path(path_graph, source=human_path[0], target=human_path[-1])"
     ],
     "language": "python",
     "metadata": {},
     "outputs": [],
     "prompt_number": 78
    },
    {
     "cell_type": "code",
     "collapsed": false,
     "input": [
      "computer_paths = map(computer_path, human_paths)"
     ],
     "language": "python",
     "metadata": {},
     "outputs": [],
     "prompt_number": 79
    },
    {
     "cell_type": "code",
     "collapsed": false,
     "input": [
      "path_lengths = [(len(human_path), len(computer_path)) for human_path, computer_path in zip(human_paths, computer_paths)]"
     ],
     "language": "python",
     "metadata": {},
     "outputs": [],
     "prompt_number": 80
    },
    {
     "cell_type": "code",
     "collapsed": false,
     "input": [
      "human_lengths = map(get(0), filter(lambda ls: ls[0] < 40, path_lengths))\n",
      "computer_lengths = map(get(1), filter(lambda ls: ls[0] < 40, path_lengths))"
     ],
     "language": "python",
     "metadata": {},
     "outputs": [],
     "prompt_number": 90
    },
    {
     "cell_type": "code",
     "collapsed": false,
     "input": [
      "def average_computer_length(human_path_length):\n",
      "    return np.mean(map(get(1), filter(lambda ls: ls[0] == human_path_length, path_lengths)))"
     ],
     "language": "python",
     "metadata": {},
     "outputs": [],
     "prompt_number": 81
    },
    {
     "cell_type": "code",
     "collapsed": false,
     "input": [
      "average_computer_lengths = map(average_computer_length, range(1, 30))"
     ],
     "language": "python",
     "metadata": {},
     "outputs": [],
     "prompt_number": 82
    },
    {
     "cell_type": "code",
     "collapsed": false,
     "input": [
      "plt.plot(range(1, 30), average_computer_lengths, 'o')"
     ],
     "language": "python",
     "metadata": {},
     "outputs": [
      {
       "metadata": {},
       "output_type": "pyout",
       "prompt_number": 83,
       "text": [
        "[<matplotlib.lines.Line2D at 0xa347710>]"
       ]
      },
      {
       "metadata": {},
       "output_type": "display_data",
       "png": "[encoded data removed]",
       "text": [
        "<matplotlib.figure.Figure at 0x8959110>"
       ]
      }
     ],
     "prompt_number": 83
    },
    {
     "cell_type": "code",
     "collapsed": false,
     "input": [
      "plt.hist([l[1] for l in path_lengths], bins=range(0,10))"
     ],
     "language": "python",
     "metadata": {},
     "outputs": [
      {
       "metadata": {},
       "output_type": "pyout",
       "prompt_number": 84,
       "text": [
        "(array([  0.00000000e+00,   1.10000000e+01,   1.16500000e+03,\n",
        "         1.17110000e+04,   3.09980000e+04,   7.01400000e+03,\n",
        "         4.08000000e+02,   1.10000000e+01,   0.00000000e+00]),\n",
        " array([0, 1, 2, 3, 4, 5, 6, 7, 8, 9]),\n",
        " <a list of 9 Patch objects>)"
       ]
      },
      {
       "metadata": {},
       "output_type": "display_data",
       "png": "[encoded data removed]",
       "text": [
        "<matplotlib.figure.Figure at 0x5f85730>"
       ]
      }
     ],
     "prompt_number": 84
    },
    {
     "cell_type": "code",
     "collapsed": false,
     "input": [
      "from statsmodels.distributions.empirical_distribution import ECDF\n",
      "ecdf = ECDF(human_lengths)\n",
      "plt.xscale(\"log\")\n",
      "plt.ylim([-.1, 1.1])\n",
      "plt.xlabel(\"Runtime\")\n",
      "plt.ylabel(\"Cumulative probability\")\n",
      "plt.title(\"Plot of CDF for runtimes\")\n",
      "plt.gcf().set_size_inches(10, 5)\n",
      "_ = plt.plot(ecdf.x, ecdf.y, linewidth=2)"
     ],
     "language": "python",
     "metadata": {},
     "outputs": [
      {
       "metadata": {},
       "output_type": "display_data",
       "png": "[encoded data removed]",
       "text": [
        "<matplotlib.figure.Figure at 0x80ee7b0>"
       ]
      }
     ],
     "prompt_number": 92
    },
    {
     "cell_type": "code",
     "collapsed": false,
     "input": [
      "path_graph.out_degree(path_graph.nodes()[0])"
     ],
     "language": "python",
     "metadata": {},
     "outputs": [
      {
       "metadata": {},
       "output_type": "pyout",
       "prompt_number": 94,
       "text": [
        "5"
       ]
      }
     ],
     "prompt_number": 94
    },
    {
     "cell_type": "code",
     "collapsed": false,
     "input": [
      "path_graph.add_weighted_edges_from([('Australia', 'Canada', 2)])"
     ],
     "language": "python",
     "metadata": {},
     "outputs": [],
     "prompt_number": 104
    },
    {
     "cell_type": "code",
     "collapsed": false,
     "input": [
      "path_graph.in_degree('Australia', weight=True)"
     ],
     "language": "python",
     "metadata": {},
     "outputs": [
      {
       "metadata": {},
       "output_type": "pyout",
       "prompt_number": 109,
       "text": [
        "266"
       ]
      }
     ],
     "prompt_number": 109
    },
    {
     "cell_type": "code",
     "collapsed": false,
     "input": [
      "path_graph.edges"
     ],
     "language": "python",
     "metadata": {},
     "outputs": [
      {
       "metadata": {},
       "output_type": "pyout",
       "prompt_number": 74,
       "text": [
        "3.4081219065435131"
       ]
      }
     ],
     "prompt_number": 74
    },
    {
     "cell_type": "code",
     "collapsed": false,
     "input": [
      "dg = nx.DiGraph()"
     ],
     "language": "python",
     "metadata": {},
     "outputs": [],
     "prompt_number": 153
    },
    {
     "cell_type": "code",
     "collapsed": false,
     "input": [
      "dg.add_edge(1, 4, weight=0.2)"
     ],
     "language": "python",
     "metadata": {},
     "outputs": [],
     "prompt_number": 156
    },
    {
     "cell_type": "code",
     "collapsed": false,
     "input": [
      "dg.out_degree(1,weight='weight')"
     ],
     "language": "python",
     "metadata": {},
     "outputs": [
      {
       "metadata": {},
       "output_type": "pyout",
       "prompt_number": 163,
       "text": [
        "0.5"
       ]
      }
     ],
     "prompt_number": 163
    },
    {
     "cell_type": "code",
     "collapsed": false,
     "input": [
      "dg.edges()"
     ],
     "language": "python",
     "metadata": {},
     "outputs": [
      {
       "metadata": {},
       "output_type": "pyout",
       "prompt_number": 126,
       "text": [
        "[(1, 4), (3, 1)]"
       ]
      }
     ],
     "prompt_number": 126
    },
    {
     "cell_type": "code",
     "collapsed": false,
     "input": [
      "dg.edge[1][4]"
     ],
     "language": "python",
     "metadata": {},
     "outputs": [
      {
       "metadata": {},
       "output_type": "pyout",
       "prompt_number": 139,
       "text": [
        "{'weight': 0.75}"
       ]
      }
     ],
     "prompt_number": 139
    },
    {
     "cell_type": "code",
     "collapsed": false,
     "input": [
      "for i, o in dg.edges():\n",
      "    print dg.edge[i][o]"
     ],
     "language": "python",
     "metadata": {},
     "outputs": [
      {
       "output_type": "stream",
       "stream": "stdout",
       "text": [
        "{'weight': 0.5}\n",
        "{'weight': 0.75}\n"
       ]
      }
     ],
     "prompt_number": 128
    },
    {
     "cell_type": "code",
     "collapsed": false,
     "input": [
      "dg.edge.has_key(122)"
     ],
     "language": "python",
     "metadata": {},
     "outputs": [
      {
       "metadata": {},
       "output_type": "pyout",
       "prompt_number": 145,
       "text": [
        "False"
       ]
      }
     ],
     "prompt_number": 145
    },
    {
     "cell_type": "code",
     "collapsed": false,
     "input": [
      "has_edge(dg, 2, 4)"
     ],
     "language": "python",
     "metadata": {},
     "outputs": [
      {
       "metadata": {},
       "output_type": "pyout",
       "prompt_number": 152,
       "text": [
        "False"
       ]
      }
     ],
     "prompt_number": 152
    },
    {
     "cell_type": "code",
     "collapsed": false,
     "input": [
      "attrs = dg.edge[1][4]"
     ],
     "language": "python",
     "metadata": {},
     "outputs": [],
     "prompt_number": 158
    },
    {
     "cell_type": "code",
     "collapsed": false,
     "input": [
      "attrs"
     ],
     "language": "python",
     "metadata": {},
     "outputs": [
      {
       "metadata": {},
       "output_type": "pyout",
       "prompt_number": 159,
       "text": [
        "{'weight': 0.2}"
       ]
      }
     ],
     "prompt_number": 159
    },
    {
     "cell_type": "code",
     "collapsed": false,
     "input": [
      "attrs['weight'] = 0.5"
     ],
     "language": "python",
     "metadata": {},
     "outputs": [],
     "prompt_number": 160
    },
    {
     "cell_type": "code",
     "collapsed": false,
     "input": [
      "dg.edge[1][4]"
     ],
     "language": "python",
     "metadata": {},
     "outputs": [
      {
       "metadata": {},
       "output_type": "pyout",
       "prompt_number": 161,
       "text": [
        "{'weight': 0.5}"
       ]
      }
     ],
     "prompt_number": 161
    },
    {
     "cell_type": "code",
     "collapsed": false,
     "input": [
      "dg.edges()"
     ],
     "language": "python",
     "metadata": {},
     "outputs": [
      {
       "metadata": {},
       "output_type": "pyout",
       "prompt_number": 162,
       "text": [
        "[(1, 4)]"
       ]
      }
     ],
     "prompt_number": 162
    },
    {
     "cell_type": "code",
     "collapsed": false,
     "input": [
      "attrs['te']"
     ],
     "language": "python",
     "metadata": {},
     "outputs": [
      {
       "ename": "KeyError",
       "evalue": "'te'",
       "output_type": "pyerr",
       "traceback": [
        "\u001b[1;31m---------------------------------------------------------------------------\u001b[0m\n\u001b[1;31mKeyError\u001b[0m                                  Traceback (most recent call last)",
        "\u001b[1;32m<ipython-input-165-f4c93352a461>\u001b[0m in \u001b[0;36m<module>\u001b[1;34m()\u001b[0m\n\u001b[1;32m----> 1\u001b[1;33m \u001b[0mattrs\u001b[0m\u001b[1;33m[\u001b[0m\u001b[1;34m'te'\u001b[0m\u001b[1;33m]\u001b[0m\u001b[1;33m\u001b[0m\u001b[0m\n\u001b[0m",
        "\u001b[1;31mKeyError\u001b[0m: 'te'"
       ]
      }
     ],
     "prompt_number": 165
    },
    {
     "cell_type": "code",
     "collapsed": false,
     "input": [],
     "language": "python",
     "metadata": {},
     "outputs": []
    }
   ],
   "metadata": {}
  }
 ]
}