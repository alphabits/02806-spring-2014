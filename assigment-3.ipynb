{
 "metadata": {
  "name": ""
 },
 "nbformat": 3,
 "nbformat_minor": 0,
 "worksheets": [
  {
   "cells": [
    {
     "cell_type": "heading",
     "level": 1,
     "metadata": {},
     "source": [
      "Assignment 3 - Anders H\u00f8rsted (s082382)"
     ]
    },
    {
     "cell_type": "heading",
     "level": 2,
     "metadata": {},
     "source": [
      "Part 1 - Network questions"
     ]
    },
    {
     "cell_type": "markdown",
     "metadata": {},
     "source": [
      "In this part a few questions about network theory are discussed. First question is about network components and how the discovery of America is related to this concept.\n",
      "\n",
      "A graph component is a subset of nodes in the graph for which the following holds:\n",
      "\n",
      "1. All nodes in the subset are connected by a path\n",
      "2. No larger subset of nodes exists that satisfies the first property\n",
      "\n",
      "In other words a network component is a part of the graph that is closed from other parts of the graph. If eg. we have a graph that represents people that have been at the same physical location at one time or another a single component of this graph represents all people that can possibly have infected each other with disease. The importance of network components is illustrated in <small>(Easley, Kleinberg 2010)</small> with the discovery of America. When America was discovered two large graph components was combined to one giant component and suddenly diseases from two very different population groups could spread with large consequences for the population groups.\n",
      "\n",
      "Related to the previous example many real life graphs consists of a single giant component that have a significant part of the nodes <small>(Easley, Kleinberg 2010, p. 31)</small>. This isn't surprising since in a graph containing multiple large components, a new edge will have a high probability of connecting two of the large components transforming them into a single large component."
     ]
    },
    {
     "cell_type": "heading",
     "level": 4,
     "metadata": {},
     "source": [
      "Small-world network"
     ]
    },
    {
     "cell_type": "markdown",
     "metadata": {},
     "source": [
      "As mentioned in the previous paragraph many graphs consists of a single giant component. This isn't a mathematical proof but a pattern that can be observed in many graphs. Another property that is commonly observed for specificaly social networks is what is called 'The Small-World Phenomenon' <small>(Easley, Kleinberg 2010, p. 35)</small>. Described in one sentence the small-world phenomenon can be described as the property that any two people can be connected in very few steps where six steps is often used as the number of steps. The magical number 6 originates from an experiment in the 1960's by Stanley Migram <small>(Easley, Kleinberg 2010, p. 35)</small> but have been confirmed by newer studies."
     ]
    },
    {
     "cell_type": "heading",
     "level": 4,
     "metadata": {},
     "source": [
      "Triadic Closure"
     ]
    },
    {
     "cell_type": "markdown",
     "metadata": {},
     "source": [
      "The 'Giant Component'- and 'Small-World'-Phenomenon are both static properties of graphs. Beside static properties many interesting dynamic properties of networks can be studied. One such phenomenon is the 'Triadic Closure'. The 'Triadic Closure' principle is the name of the intuitive principle that if two people $A$ and $B$ have a friend $C$ in common, then $A$ and $B$ are more likely to become friends in the future than if they didn't have any friends in common. The name 'Triadic Closure' comes from the fact that if $A$ and $B$ both have edges to $C$, then the friendship (edge) between $A$ and $B$ will close the triangle consisting of edges between $A$, $B$ and $C$."
     ]
    },
    {
     "cell_type": "heading",
     "level": 4,
     "metadata": {},
     "source": [
      "The strength of weak ties"
     ]
    },
    {
     "cell_type": "markdown",
     "metadata": {},
     "source": [
      "The \"Strength of weak ties\" hypothesis is a hypothesis from sociology that divides links in a social network into two categories, namely strong and weak ties. The hypothesis is that important new information such as a good job lead is more probable to be obtained from a weak tie than a strong tie. This - maybe unintuitive - hypothesis can be explained by introducing two definitions of properties for a social network with weak and strong ties. \n",
      "\n",
      "The first definition is the \"Local Bridge\". An edge in the social network is said to be a local bridge if the two endpoints share no common friends. In other words, if the local bridge is removed, the distance between the two endpoints will be greater than 2. \n",
      "\n",
      "The second definition is the \"Strong Triadic Closure Property\". A node $A$ satisfies the Strong Triadic Closure Property if for any pair of nodes $B$ and $C$ for which $A$ has strong ties to both, an edge (either a weak or strong tie) exists between $B$ and $C$.\n",
      "\n",
      "From these two definition it can now be shown that if a node $A$ satisfies the Strong Triadic Closure Property and has at least two strong ties to other nodes, then any local bridge that $A$ is involved in must be a weak tie <small>(Easley, Kleinberg 2010, p. 54)</small>.\n",
      "\n",
      "The property derived from the two definitions can be seen as a \"proof\" of the \"Strength of weak ties\" hypothesis. The logic is that it is plausible to assume that nodes in a social network satisfies the Strong Triadic Closure Property and it is also plausible to assume that the most valuable information will be obtained through a local bridge. Using the above \"proof\" we conclude that the most valuable information is obtained from weak ties."
     ]
    },
    {
     "cell_type": "heading",
     "level": 2,
     "metadata": {},
     "source": [
      "Part 2 - Human paths vs shortest paths"
     ]
    },
    {
     "cell_type": "markdown",
     "metadata": {},
     "source": [
      "In this part we compare the shortest path between start and end nodes in the wikispeedia data set with the path lengths of humans searching for the end node. First we need to import the path data from the wikispeedia data set."
     ]
    },
    {
     "cell_type": "code",
     "collapsed": false,
     "input": [
      "from collections import defaultdict\n",
      "from itertools import izip\n",
      "from matplotlib import pyplot as plt\n",
      "import networkx as nx\n",
      "import numpy as np\n",
      "from operator import itemgetter as get\n",
      "import urllib"
     ],
     "language": "python",
     "metadata": {},
     "outputs": [],
     "prompt_number": 1
    },
    {
     "cell_type": "code",
     "collapsed": false,
     "input": [
      "def include_line(line):\n",
      "    return line.strip() and not line.startswith(\"#\")\n",
      "\n",
      "def parse_line(line):\n",
      "    return map(urllib.unquote, line.strip().split(\"\\t\"))\n",
      "\n",
      "def get_tsv_file(filepath):\n",
      "    with open(filepath, 'r') as f:\n",
      "        return (parse_line(l) for l in f.readlines() if include_line(l))  \n",
      "\n",
      "def flatten(list_of_lists):\n",
      "    return (item for lst in list_of_lists for item in lst)\n",
      "\n",
      "def parse_path(path_as_string):\n",
      "    return [page for page in path_as_string.split(';') if page != '<']\n",
      "\n",
      "def get_edges(path):\n",
      "    return zip(path[:-1], path[1:])\n",
      "\n",
      "# Helper function to easily create \n",
      "# function composition\n",
      "def o(*callables):\n",
      "    def function_aggregate(value):\n",
      "        for f in callables:\n",
      "            value = f(value)\n",
      "        return value\n",
      "    return function_aggregate"
     ],
     "language": "python",
     "metadata": {},
     "outputs": [],
     "prompt_number": 2
    },
    {
     "cell_type": "code",
     "collapsed": false,
     "input": [
      "human_paths = map(o(get(3), parse_path), get_tsv_file('data/wikispeedia/paths_finished.tsv'))"
     ],
     "language": "python",
     "metadata": {},
     "outputs": [],
     "prompt_number": 3
    },
    {
     "cell_type": "markdown",
     "metadata": {},
     "source": [
      "From the path data we need to build a directed graph of all the searches."
     ]
    },
    {
     "cell_type": "code",
     "collapsed": false,
     "input": [
      "edges = flatten(get_edges(path) for path in human_paths)\n",
      "search_graph = nx.DiGraph(edges)"
     ],
     "language": "python",
     "metadata": {},
     "outputs": [],
     "prompt_number": 4
    },
    {
     "cell_type": "markdown",
     "metadata": {},
     "source": [
      "Using this graph we can now calculate the shortest path between start and end nodes of the search paths"
     ]
    },
    {
     "cell_type": "code",
     "collapsed": false,
     "input": [
      "def computer_path(graph, path):\n",
      "    return nx.shortest_path(graph, source=path[0], target=path[-1])"
     ],
     "language": "python",
     "metadata": {},
     "outputs": [],
     "prompt_number": 5
    },
    {
     "cell_type": "code",
     "collapsed": false,
     "input": [
      "computer_paths = [computer_path(search_graph, path) for path in human_paths]"
     ],
     "language": "python",
     "metadata": {},
     "outputs": [],
     "prompt_number": 6
    },
    {
     "cell_type": "markdown",
     "metadata": {},
     "source": [
      "Finally we can create a dataset of lengths of human- and computer-paths"
     ]
    },
    {
     "cell_type": "code",
     "collapsed": false,
     "input": [
      "path_lengths = [(len(human_path), len(computer_path)) for human_path, computer_path in zip(human_paths, computer_paths)]"
     ],
     "language": "python",
     "metadata": {},
     "outputs": [],
     "prompt_number": 7
    },
    {
     "cell_type": "markdown",
     "metadata": {},
     "source": [
      "Before plotting a histogram for the human path length a CDF is plotted to see what interval most of the path lengths belongs to."
     ]
    },
    {
     "cell_type": "code",
     "collapsed": false,
     "input": [
      "from statsmodels.distributions.empirical_distribution import ECDF\n",
      "ecdf = ECDF(map(get(0), path_lengths))\n",
      "plt.xscale(\"log\")\n",
      "plt.ylim([-.1, 1.1])\n",
      "plt.xlabel(\"Human path length\")\n",
      "plt.ylabel(\"Cumulative probability\")\n",
      "plt.title(\"Plot of CDF for human path lengths\")\n",
      "plt.gcf().set_size_inches(10, 5)\n",
      "_ = plt.plot(ecdf.x, ecdf.y, linewidth=2)"
     ],
     "language": "python",
     "metadata": {},
     "outputs": [
      {
       "metadata": {},
       "output_type": "display_data",
       "png": "[encoded data removed]",
       "text": [
        "<matplotlib.figure.Figure at 0x8984db0>"
       ]
      }
     ],
     "prompt_number": 8
    },
    {
     "cell_type": "markdown",
     "metadata": {},
     "source": [
      "From the CDF of the data it is seen that most of the path lengths are less than 30 pages long. Anything larger than this is considered to be an extreme case and is excluded from the histogram plot"
     ]
    },
    {
     "cell_type": "code",
     "collapsed": false,
     "input": [
      "filtered_path_lengths = filter(lambda ls: ls[0] < 30, path_lengths)"
     ],
     "language": "python",
     "metadata": {},
     "outputs": [],
     "prompt_number": 9
    },
    {
     "cell_type": "code",
     "collapsed": false,
     "input": [
      "labels = ['human', 'computer']\n",
      "bins = [20, 6]\n",
      "fig, subplots = plt.subplots(1, 2)\n",
      "fig.set_size_inches(17, 5)\n",
      "\n",
      "for i, (subplot, label, num_bins) in enumerate(zip(subplots, labels, bins)):\n",
      "    hist_data = map(get(i), filtered_path_lengths)\n",
      "    subplot.set_xlabel('Path length')\n",
      "    subplot.set_ylabel('Number of paths')\n",
      "    subplot.set_title('Histogram of {0} path lengths. Average: {1:.2f}'.format(label, np.mean(hist_data)))\n",
      "    subplot.hist(hist_data, bins=num_bins)"
     ],
     "language": "python",
     "metadata": {},
     "outputs": [
      {
       "metadata": {},
       "output_type": "display_data",
       "png": "[encoded data removed]",
       "text": [
        "<matplotlib.figure.Figure at 0x5d71250>"
       ]
      }
     ],
     "prompt_number": 10
    },
    {
     "cell_type": "markdown",
     "metadata": {},
     "source": [
      "It is seen in the histograms that the computer path lengths are all between 1 and 7 compared with the human path lengths that was filtered to only included lengths between 1 and 30. The max computer path length of 7 confirms the small-world phenomenon explained in the previous exercise even though this isn't a social network but a network of webpages. It is also seen that the human path lengths, on average are 6.28 compared with 3.88 for the computer path lengths. To get a better understanding of how the computer path length and human path length correlates a scatter plot could be used. But since both the computer and human path lengths can only be from a small finite set of values the scatter plot can be hard to read. Instead a plot of the average computer path length for each different human path length is plotted"
     ]
    },
    {
     "cell_type": "code",
     "collapsed": false,
     "input": [
      "def average_computer_length(human_path_length):\n",
      "    return np.mean(map(get(1), filter(lambda ls: ls[0] == human_path_length, filtered_path_lengths)))"
     ],
     "language": "python",
     "metadata": {},
     "outputs": [],
     "prompt_number": 11
    },
    {
     "cell_type": "code",
     "collapsed": false,
     "input": [
      "average_computer_lengths = map(average_computer_length, range(1, 30))"
     ],
     "language": "python",
     "metadata": {},
     "outputs": [],
     "prompt_number": 12
    },
    {
     "cell_type": "code",
     "collapsed": false,
     "input": [
      "plt.xlabel('Human path length')\n",
      "plt.ylabel('Average computer path length')\n",
      "plt.title('Average computer path length for different human path lengths')\n",
      "plt.gcf().set_size_inches(10, 5)\n",
      "_ = plt.plot(range(1, 30), average_computer_lengths, 'o')"
     ],
     "language": "python",
     "metadata": {},
     "outputs": [
      {
       "metadata": {},
       "output_type": "display_data",
       "png": "[encoded data removed]",
       "text": [
        "<matplotlib.figure.Figure at 0x8fca8d0>"
       ]
      }
     ],
     "prompt_number": 13
    },
    {
     "cell_type": "markdown",
     "metadata": {},
     "source": [
      "A few thing can be seen from the plot. First it is worth noticing the obvious fact that the computer path length by definition must less than or equal to the human path length. For human path lengths of 1 and 2 the computer average length is equal to the human path length. For large path lengths the human path length and computer average length diverges and the average computer length is seen to more or less settle on an average a little above 4.0 for human path lengths above 10. In a way this is another way to show the small-world property of the wikispeedia data set. If you play the wikispeedia game and exceeds 7 pages you can be pretty confident that you are not using the optimal path through the pages."
     ]
    },
    {
     "cell_type": "heading",
     "level": 2,
     "metadata": {},
     "source": [
      "Part 3 and 4 - Network dynamics"
     ]
    },
    {
     "cell_type": "markdown",
     "metadata": {},
     "source": [
      "In this part we are going to look at various properties of the wikispeedia graph and how these properties changes when more and more search data is added. More specificly we are going to add the human search data in batches of 5000 rows and for each batch calculate the number of nodes, number of links, top 5 visited nodes, top 5 in-/out-degree nodes, and top 5 most traversed links. To keep track of the various statistics for the graph we are going to add weight to each edge. The weight is the number of times the edge has been followed. Also a visit count is saved for each node. First various helper functions are defined"
     ]
    },
    {
     "cell_type": "code",
     "collapsed": false,
     "input": [
      "weight_count_key = 'weight'\n",
      "visit_count_key = '__visits__'\n",
      "\n",
      "def increment_weight(edge_attributes):\n",
      "    if not edge_attributes.has_key(weight_count_key):\n",
      "        edge_attributes[weight_count_key] = 0\n",
      "    edge_attributes[weight_count_key] += 1\n",
      "    \n",
      "def has_edge(graph, in_node, out_node):\n",
      "    return graph.edge.has_key(in_node) and graph.edge[in_node].has_key(out_node)\n",
      "\n",
      "def add_edge(graph, in_node, out_node):\n",
      "    if not has_edge(graph, in_node, out_node):\n",
      "        graph.add_edge(in_node, out_node)\n",
      "    increment_weight(graph.edge[in_node][out_node])\n",
      "    \n",
      "def add_edges(graph, edges):\n",
      "    for edge in edges:\n",
      "        add_edge(graph, *edge)\n",
      "        \n",
      "def add_visit(graph, node):\n",
      "    if not graph.node[node].has_key(visit_count_key):\n",
      "        graph.node[node][visit_count_key] = 0\n",
      "    graph.node[node][visit_count_key] += 1\n",
      "        \n",
      "def add_visits(graph, path):\n",
      "    for node in path:\n",
      "        add_visit(graph, node)\n",
      "        \n",
      "def add_path(graph, path):\n",
      "    add_edges(graph, get_edges(path))\n",
      "    add_visits(graph, path)\n",
      "    \n",
      "def add_paths(graph, paths):\n",
      "    for path in paths:\n",
      "        add_path(graph, path)\n",
      "    \n",
      "def get_edge_attribute(graph, in_node, out_node, key, default):\n",
      "    if not has_edge(graph, in_node, out_node):\n",
      "        return default\n",
      "    edge = graph.edge[in_node][out_node]\n",
      "    if not edge.has_key(key):\n",
      "        return default\n",
      "    return edge[key]\n",
      "\n",
      "def get_edge_weight(graph, in_node, out_node):\n",
      "    return get_edge_attribute(graph, in_node, out_node, 'weight', 0)\n",
      "    \n",
      "def get_top_items(items, num_to_return=5):\n",
      "    return sorted(items, key=get(1), reverse=True)[:num_to_return]\n",
      "    \n",
      "def get_graph_statistics(graph):\n",
      "    stats = {}\n",
      "    stats['num_nodes'] = graph.number_of_nodes()\n",
      "    stats['num_links'] = graph.number_of_edges()\n",
      "    stats['node_visits'] = get_top_items(get_node_visit_counts(graph))\n",
      "    stats['in_degrees'] = get_top_items(get_in_degrees(graph))\n",
      "    stats['out_degrees'] = get_top_items(get_out_degrees(graph))\n",
      "    stats['edges'] = get_top_items(get_edge_counts(graph))\n",
      "    stats['betweeness'] = get_top_items(nx.betweenness_centrality(graph, k=20).iteritems())\n",
      "    return stats\n",
      "\n",
      "def get_node_visit_counts(graph):\n",
      "    return ((node, graph.node[node][visit_count_key]) for node in graph.nodes_iter())\n",
      "\n",
      "def get_in_degrees(graph):\n",
      "    return ((node, graph.in_degree(node)) for node in graph.nodes_iter())\n",
      "\n",
      "def get_out_degrees(graph):\n",
      "    return ((node, graph.out_degree(node)) for node in graph.nodes_iter())\n",
      "\n",
      "def get_edge_counts(graph):\n",
      "    return (((in_node, out_node), d['weight']) for in_node, out_node, d in graph.edges(data=True))"
     ],
     "language": "python",
     "metadata": {},
     "outputs": [],
     "prompt_number": 14
    },
    {
     "cell_type": "markdown",
     "metadata": {},
     "source": [
      "Next the statistics for each batch of data is calculated and saved in a list of results. Since we are going to look at how much information more random search data is adding we dont want any bias in how the 50000 searches are ordered. The path data is therefore shuffled before adding the batches and calculating the statistics"
     ]
    },
    {
     "cell_type": "code",
     "collapsed": false,
     "input": [
      "import random\n",
      "\n",
      "random.seed(42)"
     ],
     "language": "python",
     "metadata": {},
     "outputs": [],
     "prompt_number": 22
    },
    {
     "cell_type": "code",
     "collapsed": false,
     "input": [
      "step_size = 5000\n",
      "path_graph = nx.DiGraph()\n",
      "stats = []\n",
      "human_paths_shuffled = list(human_paths)\n",
      "random.shuffle(human_paths_shuffled)\n",
      "\n",
      "for step in range(10):\n",
      "    path_data = human_paths_shuffled[(step*step_size):((step+1)*step_size)]\n",
      "    add_paths(path_graph, path_data)\n",
      "    stats.append(get_graph_statistics(path_graph))"
     ],
     "language": "python",
     "metadata": {},
     "outputs": [],
     "prompt_number": 23
    },
    {
     "cell_type": "markdown",
     "metadata": {},
     "source": [
      "To analyze the data we first look at the top 5 lists saved for each batch and look at how stable the top 5 lists are"
     ]
    },
    {
     "cell_type": "code",
     "collapsed": false,
     "input": [
      "def print_top_5(stat_key):\n",
      "    for top_5 in map(get(stat_key), stats):\n",
      "        print map(get(0), top_5)"
     ],
     "language": "python",
     "metadata": {},
     "outputs": [],
     "prompt_number": 24
    },
    {
     "cell_type": "markdown",
     "metadata": {},
     "source": [
      "The first top 5 list is the top 5 nodes with most visits"
     ]
    },
    {
     "cell_type": "code",
     "collapsed": false,
     "input": [
      "print_top_5('node_visits')"
     ],
     "language": "python",
     "metadata": {},
     "outputs": [
      {
       "output_type": "stream",
       "stream": "stdout",
       "text": [
        "['United_States', 'Europe', 'United_Kingdom', 'Earth', 'England']\n",
        "['United_States', 'Europe', 'United_Kingdom', 'England', 'Earth']\n",
        "['United_States', 'Europe', 'United_Kingdom', 'England', 'Earth']\n",
        "['United_States', 'Europe', 'United_Kingdom', 'England', 'Earth']\n",
        "['United_States', 'Europe', 'United_Kingdom', 'England', 'Earth']\n",
        "['United_States', 'Europe', 'United_Kingdom', 'England', 'Earth']\n",
        "['United_States', 'Europe', 'United_Kingdom', 'England', 'Earth']\n",
        "['United_States', 'Europe', 'United_Kingdom', 'England', 'Earth']\n",
        "['United_States', 'Europe', 'United_Kingdom', 'England', 'Earth']\n",
        "['United_States', 'Europe', 'United_Kingdom', 'England', 'Earth']\n"
       ]
      }
     ],
     "prompt_number": 25
    },
    {
     "cell_type": "markdown",
     "metadata": {},
     "source": [
      "It is seen that all 5 nodes with most visits are consistent for all 10 batches and it is likely that more data will not change this top 5. Next is the top 5 nodes with most distinct inbound links."
     ]
    },
    {
     "cell_type": "code",
     "collapsed": false,
     "input": [
      "print_top_5('in_degrees')"
     ],
     "language": "python",
     "metadata": {},
     "outputs": [
      {
       "output_type": "stream",
       "stream": "stdout",
       "text": [
        "['United_States', 'Europe', 'United_Kingdom', 'England', 'World_War_II']\n",
        "['United_States', 'Europe', 'United_Kingdom', 'England', 'World_War_II']\n",
        "['United_States', 'Europe', 'United_Kingdom', 'England', 'World_War_II']\n",
        "['United_States', 'Europe', 'United_Kingdom', 'England', 'World_War_II']\n",
        "['United_States', 'Europe', 'United_Kingdom', 'England', 'World_War_II']\n",
        "['United_States', 'Europe', 'United_Kingdom', 'England', 'World_War_II']\n",
        "['United_States', 'Europe', 'United_Kingdom', 'England', 'World_War_II']\n",
        "['United_States', 'Europe', 'United_Kingdom', 'England', 'World_War_II']\n",
        "['United_States', 'Europe', 'United_Kingdom', 'England', 'World_War_II']\n",
        "['United_States', 'Europe', 'United_Kingdom', 'England', 'World_War_II']\n"
       ]
      }
     ],
     "prompt_number": 26
    },
    {
     "cell_type": "markdown",
     "metadata": {},
     "source": [
      "The top 5 is seen to stabilize after the third batch and it seems plausible that the top 5 will not change with more data added. Next up is the top 5 nodes with most distinct outbound links."
     ]
    },
    {
     "cell_type": "code",
     "collapsed": false,
     "input": [
      "print_top_5('out_degrees')"
     ],
     "language": "python",
     "metadata": {},
     "outputs": [
      {
       "output_type": "stream",
       "stream": "stdout",
       "text": [
        "['United_States', 'United_Kingdom', 'England', 'Africa', 'Periodic_table']\n",
        "['United_States', 'England', 'United_Kingdom', 'Africa', 'Europe']\n",
        "['United_States', 'England', 'United_Kingdom', 'Africa', 'Europe']\n",
        "['United_States', 'United_Kingdom', 'England', 'Africa', 'Europe']\n",
        "['United_States', 'United_Kingdom', 'England', 'Africa', 'Europe']\n",
        "['United_States', 'United_Kingdom', 'England', 'Africa', 'Europe']\n",
        "['United_States', 'United_Kingdom', 'England', 'Africa', 'Europe']\n",
        "['United_States', 'United_Kingdom', 'England', 'Africa', 'Europe']\n",
        "['United_States', 'England', 'United_Kingdom', 'Africa', 'Europe']\n",
        "['United_States', 'England', 'United_Kingdom', 'Africa', 'Europe']\n"
       ]
      }
     ],
     "prompt_number": 27
    },
    {
     "cell_type": "markdown",
     "metadata": {},
     "source": [
      "This top 5 settles after the 4'th batch and it also seems plausible that it will stay the same with more data added. Finally we look at the most traversed links."
     ]
    },
    {
     "cell_type": "code",
     "collapsed": false,
     "input": [
      "print_top_5('edges')"
     ],
     "language": "python",
     "metadata": {},
     "outputs": [
      {
       "output_type": "stream",
       "stream": "stdout",
       "text": [
        "[('Communication', 'Telephone'), ('Brain', 'Computer_science'), ('Lion', 'Zebra'), ('Europe', 'United_Kingdom'), ('North_America', 'United_States')]\n",
        "[('Communication', 'Telephone'), ('Brain', 'Computer_science'), ('North_America', 'United_States'), ('Europe', 'United_Kingdom'), ('United_States', 'President_of_the_United_States')]\n",
        "[('Communication', 'Telephone'), ('Brain', 'Computer_science'), ('North_America', 'United_States'), ('United_States', 'President_of_the_United_States'), ('Animal', 'Mammal')]\n",
        "[('Communication', 'Telephone'), ('Mammal', 'Zebra'), ('North_America', 'United_States'), ('Animal', 'Mammal'), ('Brain', 'Computer_science')]\n",
        "[('Communication', 'Telephone'), ('North_America', 'United_States'), ('Animal', 'Mammal'), ('Mammal', 'Zebra'), ('United_States', 'President_of_the_United_States')]\n",
        "[('Communication', 'Telephone'), ('North_America', 'United_States'), ('Mammal', 'Zebra'), ('Animal', 'Mammal'), ('United_States', 'President_of_the_United_States')]\n",
        "[('Communication', 'Telephone'), ('North_America', 'United_States'), ('Animal', 'Mammal'), ('United_States', 'President_of_the_United_States'), ('Mammal', 'Zebra')]\n",
        "[('Communication', 'Telephone'), ('North_America', 'United_States'), ('Animal', 'Mammal'), ('United_States', 'President_of_the_United_States'), ('Mammal', 'Zebra')]\n",
        "[('Communication', 'Telephone'), ('North_America', 'United_States'), ('Animal', 'Mammal'), ('United_States', 'President_of_the_United_States'), ('Mammal', 'Zebra')]\n",
        "[('Communication', 'Telephone'), ('North_America', 'United_States'), ('Animal', 'Mammal'), ('United_States', 'President_of_the_United_States'), ('Europe', 'United_Kingdom')]\n"
       ]
      }
     ],
     "prompt_number": 28
    },
    {
     "cell_type": "markdown",
     "metadata": {},
     "source": [
      "The top 4 stays the same for the last 4 batches but it isn't clear whether the top 4 will stay the same with more data added. For now we assume that the final top 5 is the actual top 5 list of links traversed. Next we print the number of clicks for each link along with the number clicks for the link in the opposite direction."
     ]
    },
    {
     "cell_type": "code",
     "collapsed": false,
     "input": [
      "for edge, count in stats[-1]['edges']:\n",
      "    reverse_count = get_edge_weight(path_graph, *edge[::-1])\n",
      "    print \"{0} -> {1} got {2} clicks, {1} -> {0} got {3} clicks\\n\".format(edge[0], edge[1], count, reverse_count)"
     ],
     "language": "python",
     "metadata": {},
     "outputs": [
      {
       "output_type": "stream",
       "stream": "stdout",
       "text": [
        "Communication -> Telephone got 522 clicks, Telephone -> Communication got 0 clicks\n",
        "\n",
        "North_America -> United_States got 493 clicks, United_States -> North_America got 344 clicks\n",
        "\n",
        "Animal -> Mammal got 479 clicks, Mammal -> Animal got 99 clicks\n",
        "\n",
        "United_States -> President_of_the_United_States got 461 clicks, President_of_the_United_States -> United_States got 60 clicks\n",
        "\n",
        "Europe -> United_Kingdom got 455 clicks, United_Kingdom -> Europe got 239 clicks\n",
        "\n"
       ]
      }
     ],
     "prompt_number": 29
    },
    {
     "cell_type": "markdown",
     "metadata": {},
     "source": [
      "It is seen that no clear correlation between a link and its reverse link exists for these 5 cases.\n",
      "\n",
      "Next plots of the number of nodes and number of edges as a function of the number of paths included is created."
     ]
    },
    {
     "cell_type": "code",
     "collapsed": false,
     "input": [
      "batch_sizes = [5000*i for i in range(0, 11)]\n",
      "\n",
      "labels = ['nodes', 'edges']\n",
      "keys = ['num_nodes', 'num_links']\n",
      "fig, subplots = plt.subplots(1, 2)\n",
      "fig.set_size_inches(17, 5)\n",
      "\n",
      "for i, (subplot, label, key) in enumerate(zip(subplots, labels, keys)):\n",
      "    data = [0] + map(get(key), stats)\n",
      "    subplot.set_xlabel('Number of paths included')\n",
      "    subplot.set_ylabel('Number of {0} in the graph'.format(label))\n",
      "    subplot.set_title('The number of {0} in the graph'.format(label))\n",
      "    subplot.plot(batch_sizes, data)"
     ],
     "language": "python",
     "metadata": {},
     "outputs": [
      {
       "metadata": {},
       "output_type": "display_data",
       "png": "[encoded data removed]",
       "text": [
        "<matplotlib.figure.Figure at 0x8ea4050>"
       ]
      }
     ],
     "prompt_number": 30
    },
    {
     "cell_type": "markdown",
     "metadata": {},
     "source": [
      "Looking at the plots it is seen that most of the nodes in the network are discovered by adding the first 5000 paths in the search dataset. The second and third batch still discovers a few new nodes but from batch four almost no new nodes are added.\n",
      "\n",
      "On the other hand the number of new links added by each batch is significant even for the last batches. The number of new edges discovered with each batch decreases, but only slowly, and it seems likely that many more links could be discovered by adding more search data to the graph."
     ]
    },
    {
     "cell_type": "heading",
     "level": 1,
     "metadata": {},
     "source": [
      "References"
     ]
    },
    {
     "cell_type": "markdown",
     "metadata": {},
     "source": [
      "Easley and Kleinberg. (2010) - <em>Networks, Crowds, and Markets</em> - Cambridge University Press"
     ]
    }
   ],
   "metadata": {}
  }
 ]
}